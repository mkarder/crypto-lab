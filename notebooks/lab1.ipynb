{
 "cells": [
  {
   "cell_type": "markdown",
   "id": "06a94779",
   "metadata": {},
   "source": [
    "# Crypto Lab Part 1"
   ]
  },
  {
   "cell_type": "markdown",
   "id": "e04610aa",
   "metadata": {},
   "source": [
    "## 1 What is Cryptography? "
   ]
  },
  {
   "cell_type": "markdown",
   "id": "ad6b44dc",
   "metadata": {},
   "source": [
    "---"
   ]
  },
  {
   "cell_type": "markdown",
   "id": "3129d884",
   "metadata": {},
   "source": [
    "## 2 Classical Ciphers"
   ]
  },
  {
   "cell_type": "markdown",
   "id": "bb4c6c11",
   "metadata": {},
   "source": [
    "### 2.1 Caeser Cipher"
   ]
  },
  {
   "cell_type": "markdown",
   "id": "03a70f01",
   "metadata": {},
   "source": [
    "A cipher is a system for transforming plain text into a code that others should not be able to read. We will have a look at one of the oldest and most famous ciphers, the **Caesar cipher** — named after Gaius Julius Caesar, who likely used it to send secret messages. It's hardly the best way to prevent others from reading your messages, but we'll get back to that. There exists ready-made Python modules you can use if you want to create something more secure, but for now, we’ll try to implement the Caesar cipher ourselves.\n",
    "\n",
    "An intutive way to visualize the Caesar cipher is to draw the letters of the alphabet in a circle:"
   ]
  },
  {
   "cell_type": "markdown",
   "id": "0254980f",
   "metadata": {},
   "source": [
    "<center><img src=\"../images/alphabet-wheel.png\"/></center>"
   ]
  },
  {
   "cell_type": "markdown",
   "id": "86de8ca7",
   "metadata": {},
   "source": [
    "To create a secret letter from a regular letter, we must use a number as a **secret key**. Both I and Ceasar likes the number 3, so we’ll use that."
   ]
  },
  {
   "cell_type": "code",
   "execution_count": null,
   "id": "a0a79cb0",
   "metadata": {},
   "outputs": [],
   "source": [
    "A + 3 = D   T + 3 = W   Z + 3 = C "
   ]
  },
  {
   "cell_type": "markdown",
   "id": "c77061c2",
   "metadata": {},
   "source": [
    "We start with A and count forward 3 letters: B, C, D. So the letter A becomes the letter D. To decode, we do the same but in reverse. We start with D and count backward to get A. \n",
    "\n",
    "Now, we'll try to implement this in code! Below is a code cell where you find some skeleton code for an `encode()` and a `decode()` function. Fill in the missing parts of the functions so they can be used to encrypt and decrypt the input. You can run the cell to verify if your solution works as expected."
   ]
  },
  {
   "cell_type": "code",
   "execution_count": null,
   "id": "55eb828f",
   "metadata": {},
   "outputs": [],
   "source": [
    "alphabet = \"abcdefghijklmnopqrstuvwxyz\"\n",
    "\n",
    "def encode(character, key):\n",
    "    \"\"\"\n",
    "    TODO: \n",
    "    Implement Caesar cipher encoding for a single lowercase letter.\n",
    "    \"\"\"\n",
    "\n",
    "    return  # Replace this with your code\n",
    "\n",
    "def decode(character, key):\n",
    "    \"\"\"\n",
    "    TODO: \n",
    "    Implement Caesar cipher decoding for a single lowercase letter.\n",
    "    \"\"\"\n",
    "\n",
    "    return  # Replace this with your code\n",
    "\n",
    "# Test examples\n",
    "print(encode(\"a\", 17))  # Expected output: 'r'\n",
    "print(decode(\"r\", 17))  # Expected output: 'a'\n"
   ]
  },
  {
   "cell_type": "markdown",
   "id": "a68422d7",
   "metadata": {},
   "source": [
    "<details>\n",
    "<summary><strong>💡 Hint</strong></summary>\n",
    "\n",
    "Encryption steps:\n",
    "1. Find the index of the character in the alphabet.  \n",
    "2. Add the key to this index to \"shift\" the letter.  \n",
    "3. Use some trickery to wrap around if you go past 'z', like modulus operations.  \n",
    "4. Return the new letter from the alphabet.\n",
    "\n",
    "Decryption steps:\n",
    "1. Find the index of the character in the alphabet.\n",
    "2. Subtract the key to reverse the shift.\n",
    "3. Use some trickery to wrap around if you go before 'z'.\n",
    "4. Return the original letter from the alphabet.\n",
    "\n",
    "</details>\n"
   ]
  },
  {
   "cell_type": "markdown",
   "id": "0f386e94",
   "metadata": {},
   "source": [
    "Now that we have some functions, let's use them to encode words and phrases. We'll go through each letter in the word and encode it if it's in the alphabet (we'll skip characters like periods and spaces). Below is a code cell where we use the prior functions to encrypt and decrypt phrases. Running it should display the encryption and decrytion of `hello world`. Run it to see for yourself. \n",
    "\n",
    "*NB: Before running this cell, make sure you’ve already run the one above that defines the encode and decode functions. Otherwise, this code won’t work!*"
   ]
  },
  {
   "cell_type": "code",
   "execution_count": null,
   "id": "dda770ff",
   "metadata": {},
   "outputs": [],
   "source": [
    "key = 17\n",
    "message = \"hello world\"\n",
    "\n",
    "output = \"\"\n",
    "\n",
    "for character in message:\n",
    "    if character in alphabet:\n",
    "        output = output + encode(character, key)\n",
    "    else:\n",
    "        output = output + character\n",
    "\n",
    "\n",
    "print(output)\n",
    "\n",
    "key = 17\n",
    "message = \"yvccf nficu\"\n",
    "output = \"\"\n",
    "\n",
    "for character in message:\n",
    "    if character in alphabet:\n",
    "        output = output + decode(character, key)\n",
    "    else:\n",
    "        output = output + character\n",
    "\n",
    "print(output)"
   ]
  },
  {
   "cell_type": "markdown",
   "id": "ced24b38",
   "metadata": {},
   "source": [
    "In the same way we wrote functions to encode and decode individual letters, we now want to create functions to encrypt and decrypt entire messages. Your next task is to automate what we did above to encrypt and decrypt messages. Your task is to:\n",
    "1. Write a function `encrypt()` that takes `message` and `key` as input, and returns the encrypted message using this key.\n",
    "2. Write a function `decrypt()` that takes `secretmessage` and `key` as input, and returns the decrypted message using this key.\n",
    "\n",
    "The skeleton code for these two functions is provided below. "
   ]
  },
  {
   "cell_type": "code",
   "execution_count": null,
   "id": "9add606f",
   "metadata": {},
   "outputs": [],
   "source": [
    "def encrypt(message, key):\n",
    "    \"\"\"\n",
    "    TODO:\n",
    "    Write a function to encrypt a full message using the Caesar cipher.\n",
    "    \"\"\"\n",
    "    return  # Replace with your implementation\n",
    "\n",
    "\n",
    "def decrypt(secretmessage, key):\n",
    "    \"\"\"\n",
    "    TODO:\n",
    "    Write a function to decrypt a full message using the Caesar cipher.\n",
    "    \"\"\"\n",
    "    return  # Replace with your implementation\n",
    "\n",
    "\n",
    "# Example tests\n",
    "print(encrypt(\"hello world\", 5))   # Expected: 'mjqqt btwqi'\n",
    "print(decrypt(\"mjqqt btwqi\", 5))   # Expected: 'hello world'\n"
   ]
  },
  {
   "cell_type": "markdown",
   "id": "3208feaf",
   "metadata": {},
   "source": [
    "#### Expanding the Alphabet\n",
    "\n",
    "We want to be able to encrypt different characters, not just lowercase letters. Then we need to make our program a bit more flexible, since we have said that our code only works properly if we have 26 characters in the alphabet. For now, we want to add uppercase letters, but it is also possible to add special characters like `,`, `.`, `?`, and `!`. "
   ]
  },
  {
   "cell_type": "code",
   "execution_count": null,
   "id": "63aacd8d",
   "metadata": {},
   "outputs": [],
   "source": [
    "alphabet = \"abcdefghijklmnopqrstuvwxyzABCDEFGHIJKLMNOPQRSTUVWXYZ\"\n",
    "l = len(alphabet)\n",
    "\n",
    "def dynamic_encode(character, key):\n",
    "    \"\"\"\n",
    "    TODO: \n",
    "    Implement Caesar cipher encoding for a single character in an arbitrary long alphabet.\n",
    "    \"\"\"\n",
    "\n",
    "    return  # Replace this with your code\n",
    "\n",
    "def dynamic_decode(character, key):\n",
    "    \"\"\"\n",
    "    TODO: \n",
    "    Implement Caesar cipher decoding for a single character in an arbitrary long alphabet.\n",
    "    \"\"\"\n",
    "\n",
    "    return  # Replace this with your code\n",
    "\n",
    "# Test examples\n",
    "print(dynamic_encode(\"a\", 26))  # Expected output: 'A'\n",
    "print(dynamic_decode(\"X\", 29))  # Expected output: 'u'\n"
   ]
  },
  {
   "cell_type": "markdown",
   "id": "9f038352",
   "metadata": {},
   "source": [
    "#### [Optional Challenge]: Decrypting without the key \n",
    "\n",
    "We end this section with a challenge! Below are three different messages encrypted using different keys. They all contain common english words, but might have been encrypted using different alphabets. Use the provided skeleton code to find the secret keys and print the original messages. "
   ]
  },
  {
   "cell_type": "code",
   "execution_count": null,
   "id": "91531ad2",
   "metadata": {},
   "outputs": [],
   "source": [
    "secretmessage_1 = \"jhlzhy\"\n",
    "secretmessage_2 = \"HVWg Wg O gSQfSh aSggOUS\"\n",
    "secretmessage_3 = \"ZCCHMF RODBHzK BGzQzBSDQRv KHJD 'v'v 'w'v 'x'v zMC 'y' LzJDR SGHMFR GzQCDQw\"\n",
    "\n",
    "def find_key(secretmessage):\n",
    "    \"\"\"\n",
    "    TODO: \n",
    "    Implement a way to find the key for a given secret message and print out the original message.\n",
    "    \"\"\"\n",
    "    return # Replace this with your code\n",
    "\n"
   ]
  },
  {
   "cell_type": "markdown",
   "id": "479562d4",
   "metadata": {},
   "source": [
    "<details>\n",
    "<summary><strong>💡 Hint</strong></summary>\n",
    "The key size of the alphabet is not too large. I mean, we already have functions to decrypt secret messages...why not just try it with all possible keys?\n",
    "</details>"
   ]
  },
  {
   "cell_type": "markdown",
   "id": "a56ddd5f",
   "metadata": {},
   "source": [
    "---"
   ]
  },
  {
   "cell_type": "markdown",
   "id": "9bd42668",
   "metadata": {},
   "source": [
    "## 3 Symmetric Encryption"
   ]
  },
  {
   "cell_type": "markdown",
   "id": "49f9e6f1",
   "metadata": {},
   "source": [
    "### 3.1 Advanced Encryption Standard (AES)"
   ]
  },
  {
   "cell_type": "markdown",
   "id": "283b8102",
   "metadata": {},
   "source": [
    "---"
   ]
  },
  {
   "cell_type": "markdown",
   "id": "bf6f738d",
   "metadata": {},
   "source": [
    "## 4 Asymmetric Encryption"
   ]
  },
  {
   "cell_type": "markdown",
   "id": "16463573",
   "metadata": {
    "vscode": {
     "languageId": "plaintext"
    }
   },
   "source": [
    "### 4.1 Primes and Randomness"
   ]
  },
  {
   "cell_type": "markdown",
   "id": "0c8ab893",
   "metadata": {},
   "source": [
    "### 4.1.1 Primes"
   ]
  },
  {
   "cell_type": "markdown",
   "id": "80e4e3a7",
   "metadata": {},
   "source": [
    "Prime numbers are numbers that can only be divided evenly by 1 and themselves, such as 2, 3, 5, 7, and 11.\n",
    "\n",
    "In modern cryptography, prime numbers are essential because it’s very hard to factor large numbers into their prime components. However, cryptographic systems don’t use small primes like 2 or 5 — instead, they rely on extremely large prime numbers for strong security."
   ]
  },
  {
   "cell_type": "markdown",
   "id": "31cd794f",
   "metadata": {},
   "source": [
    "Now, let's get started by looking at a number to see if it is a prime or not! \n",
    "\n",
    "Below you have a function 'is_prime' to check if a number is prime or not. Have a look at it and make sure you understand how it works."
   ]
  },
  {
   "cell_type": "code",
   "execution_count": null,
   "id": "df254550",
   "metadata": {},
   "outputs": [],
   "source": [
    "def is_prime(n):\n",
    "    for i in range(2, n):\n",
    "        if n % i == 0:\n",
    "            return False\n",
    "    return True\n",
    "  \n",
    "print(is_prime(15)) # Should return False\n",
    "print(is_prime(29)) # Should return True"
   ]
  },
  {
   "cell_type": "markdown",
   "id": "b4c6a18a",
   "metadata": {},
   "source": [
    "#### Question 4.1.1.1: Explain what the function does at each line"
   ]
  },
  {
   "cell_type": "raw",
   "id": "bf0d606e",
   "metadata": {},
   "source": [
    "# Fill in your answer here."
   ]
  },
  {
   "cell_type": "markdown",
   "id": "3c3a2c2c",
   "metadata": {},
   "source": [
    "Unfortunately, this function only works for small prime numbers. If you test with `is_prime(2147483647)`, you will see that the program takes quite a long time to finish. Thus, we'll have to improve the code to be faster!\n",
    "\n",
    "In order to increase the computational speed, we will use a mathematical argument. Let's assume $n$ is a product of to other numbers $p$ and $q$: \n",
    "\n",
    "$$n=pq$$\n",
    "\n",
    "Here, either $p$ or $q$ has to be smaller (or equal) to $\\sqrt{n}$. Why? If both are bigger than $n$, we'll have the following:\n",
    "\n",
    "$$ n=pq > \\sqrt{n}\\sqrt{n}=n $$\n",
    "\n",
    "Now we have that $n>n$, which is impossible. Thus, one or the other has to be smaller or equal to $\\sqrt{n}$."
   ]
  },
  {
   "cell_type": "markdown",
   "id": "797cd827",
   "metadata": {},
   "source": [
    "Use this new knowledge to complete the code below. The only thing you need to change is the range of the function to avoid going through all possible digits up to $n$: "
   ]
  },
  {
   "cell_type": "code",
   "execution_count": null,
   "id": "03b8821d",
   "metadata": {},
   "outputs": [],
   "source": [
    "from math import sqrt, ceil\n",
    "\n",
    "def is_prime(n):\n",
    "    \"\"\"\n",
    "    TODO: By using this new knowledge, change the '??' so it is possible to quickly computate is_prime(2147483647)\n",
    "\n",
    "    for i in range(2, ??):\n",
    "        if n % i == 0:\n",
    "            return False\n",
    "    return True\n",
    "    \"\"\"\n",
    "\n",
    "print(is_prime(15)) # Should return False\n",
    "print(is_prime(25)) # Should return False\n",
    "print(is_prime(29)) # Should return True\n",
    "print(is_prime(2147483647)) # Should return True"
   ]
  },
  {
   "cell_type": "markdown",
   "id": "07b66e45",
   "metadata": {},
   "source": [
    "<details>\n",
    "<summary><strong>💡 Hint</strong></summary>\n",
    "\n",
    "1. Try using the newly imported functions, `sqrt` and `ceil` (`ceil` will round up to the nearest integer which is important to use since sqrt may return floats)\n",
    "2. If 25 doesn't return False, maybe you should add 1? Make sure you understand why it works now by going through each iteration to see what happens.\n",
    "</details>"
   ]
  },
  {
   "cell_type": "markdown",
   "id": "cb1494fa",
   "metadata": {},
   "source": [
    "Good job! You can now check if a number is prime. However, there are ways to make the algorithm run much faster, especially for large numbers.\n",
    "\n",
    "Can you think of any improvements to optimize it?"
   ]
  },
  {
   "cell_type": "markdown",
   "id": "828e15d4",
   "metadata": {},
   "source": [
    "#### Question 4.1.1.2: Suggest two ways to improve the code so it runs faster for large numbers"
   ]
  },
  {
   "cell_type": "raw",
   "id": "a0bd7109",
   "metadata": {},
   "source": [
    "# Fill in your answer here."
   ]
  },
  {
   "cell_type": "markdown",
   "id": "383788cd",
   "metadata": {},
   "source": [
    "<details>\n",
    "<summary><strong>💡 Hint</strong></summary>\n",
    "\n",
    "Do you *really* need to check all digits each time? Could it be a prime if it is an even number? \n",
    "</details>"
   ]
  },
  {
   "cell_type": "markdown",
   "id": "d7382f5f",
   "metadata": {},
   "source": [
    "### 4.1.2 Randomness"
   ]
  },
  {
   "cell_type": "markdown",
   "id": "90eec8f3",
   "metadata": {},
   "source": [
    "If the same prime numbers are reused repeatedly, it becomes easier for an attacker to figure them out. That’s why **randomness** is a key part of modern cryptography.\n",
    "\n",
    "### 🔐 Kerckhoffs's Principle\n",
    "\n",
    "> **A cryptographic system should remain secure even if everything about it is public—except the key.**\n",
    "\n",
    "For example, consider the **Caesar Cipher** which we previously looked at:  \n",
    "If the shift is always fixed at 3, there’s essentially no key and thus no real security. But if the shift is chosen **randomly** and kept **secret**, the cipher becomes (a bit) more secure."
   ]
  },
  {
   "cell_type": "markdown",
   "id": "6700aa08",
   "metadata": {},
   "source": [
    "Below you can see a code snippet of how to compute random numbers using 'random'."
   ]
  },
  {
   "cell_type": "markdown",
   "id": "61c9cb38",
   "metadata": {},
   "source": [
    "##### Task: Run the code several times to check if the same numbers appears several times:"
   ]
  },
  {
   "cell_type": "code",
   "execution_count": null,
   "id": "5c5ac3c4",
   "metadata": {},
   "outputs": [],
   "source": [
    "from random import randint\n",
    "\n",
    "for i in range(100):\n",
    "    print(randint(0, 1000))"
   ]
  },
  {
   "cell_type": "markdown",
   "id": "af050165",
   "metadata": {},
   "source": [
    "By looking at this examples it may seem like random numbers appears, but unfortunately, computers are not very good at creating truly random numbers. That’s why we often talk about *pseudo-random* numbers.\n",
    "\n",
    "It's like using a machine to roll a die. If the machine uses the exact same force and angle every time, the result will always be the same.\n",
    "\n",
    "Similarly, computers need a starting point to generate random numbers, called a seed. If you use the same seed, you’ll always get the same sequence of numbers.\n",
    "\n",
    "##### Task: Run the code snippet below and verify - does the same numbers appear every single time?"
   ]
  },
  {
   "cell_type": "code",
   "execution_count": null,
   "id": "869b925c",
   "metadata": {},
   "outputs": [],
   "source": [
    "from random import randint, seed\n",
    "\n",
    "seed('Cybdat')\n",
    "\n",
    "for i in range(100):\n",
    "    print(randint(0, 1000))"
   ]
  },
  {
   "cell_type": "markdown",
   "id": "26eb4514",
   "metadata": {},
   "source": [
    "The key takeaway is this: random numbers are only as good as the seed used to generate them. By default, Python uses the exact time the program starts as the seed. If a cryptographer does the same, and an attacker can guess that time (which often isn’t too hard), the entire system can be broken.\n",
    "\n",
    "We've now seen that:\n",
    "1. Random numbers must be **uniformly distributed**.  \n",
    "2. The numbers **depend entirely on the seed**.  \n",
    "3. Now, there's a third issue: **If someone sees previous values, can they predict the next ones?**\n",
    "\n",
    "The Python documentation gives a clear warning:\n",
    "\n",
    "> ⚠️ *The pseudo-random generators of this module should not be used for security purposes. For cryptographic uses, see the `secrets` module.*\n",
    "\n",
    "The reason you shouldn't use Python’s `random` module for secret codes is that its output **may be predictable**.   \n",
    "This is exactly why it's important to read the documentation — especially when working with security.\n"
   ]
  },
  {
   "cell_type": "markdown",
   "id": "8e03aa41",
   "metadata": {},
   "source": [
    "##### Task: Read the Python documentation for random numbers in the `secrets` module and change the codes above to use functions from `secrets` instead of `random`. "
   ]
  },
  {
   "cell_type": "markdown",
   "id": "ace17647",
   "metadata": {},
   "source": [
    "### 4.2 Diffie-Hellman Key Exhange (DHKE) "
   ]
  },
  {
   "cell_type": "markdown",
   "id": "0e553926",
   "metadata": {},
   "source": [
    "Earlier, you worked with the Caesar cipher, which is a simple form of encryption using **symmetric cryptography**. But that kind of encryption has a built-in problem: before sending a secret message, both sides must agree on a shared key. But how do you secretly agree on a secret in the first place?\n",
    "\n",
    "A solution to this is the **Diffie-Hellman key exchange**, introduced by Whitfield Diffie and Martin Hellman in 1976 which is still used today. In this section, you'll implement their idea. By the end, you'll be able to \"shout across a room\" and still agree on a shared secret, without anyone else understanding it.\n",
    "\n",
    "To do this, you'll need two key tools we've just looked at:  \n",
    "- Prime numbers  \n",
    "- Good random number generation \n",
    "\n",
    "\n",
    "Below is a picture of how the Diffie-Hellman is used to compute a secret key:"
   ]
  },
  {
   "cell_type": "markdown",
   "id": "981a7574",
   "metadata": {},
   "source": [
    "![Diffie-Hellman](../images/Diffie-Hellman-Key-exchange-protocol.png)"
   ]
  },
  {
   "cell_type": "markdown",
   "id": "05a34321",
   "metadata": {},
   "source": [
    "In this picture, Bob generates a share ($A$) by using a private number ($a$) and two primes ($g$ and $p$). $A$ is sent together with $g$ and $p$ to Alice, who computes $B$ using the received $g$ and $p$, as well as their private number ($b$). \n",
    "\n",
    "$B$ is thus sent back to Bob. and they may both compute the same key $K$ using the other persons share ($A$ or $B$) raised to the power of their private number ($a$ or $b$).\n",
    "\n",
    "Why does this work?  \n",
    "A proof for those interested (this will become relevant for later courses in your study):\n",
    "\n",
    "##### Party A\n",
    "$$\n",
    "\\begin{aligned}\n",
    "A &= g^{a} \\mod p \\\\\\\\\n",
    "K_a &= B^{a} \\mod p \\\\\\\\\n",
    "    &= (g^{b} \\mod p)^{a} \\mod p \\\\\\\\\n",
    "    &= (g^{b})^{a} \\mod p \\\\\\\\\n",
    "    &= g^{b a} \\mod p\n",
    "\\end{aligned}\n",
    "$$\n",
    "\n",
    "##### Party B\n",
    "$$\n",
    "\\begin{aligned}\n",
    "B &= g^{b} \\mod p \\\\\\\\\n",
    "K_b &= A^{b} \\mod p \\\\\\\\\n",
    "    &= (g^{a} \\mod p)^{b} \\mod p \\\\\\\\\n",
    "    &= (g^{a})^{b} \\mod p \\\\\\\\\n",
    "    &= g^{a b} \\mod p\n",
    "\\end{aligned}\n",
    "$$\n",
    "\n",
    "\n",
    "Try it yourself with the code provided below. Simulate where one of you are Bob who picks the number $a$ between 1 and 23, and one other is Alice who picks number $b$:"
   ]
  },
  {
   "cell_type": "code",
   "execution_count": null,
   "id": "bfdef6d5",
   "metadata": {},
   "outputs": [],
   "source": [
    "p = 23\n",
    "g = 5\n",
    "\n",
    "def generate_A(a, g, p):\n",
    "    return g**a % p\n",
    "\n",
    "def generate_B(b, g, p):\n",
    "    return g**b % p\n",
    "\n",
    "def generate_K(B, a, p):\n",
    "    return B**a % p\n",
    "\n",
    "\"\"\"\n",
    "TODO: Define a and b\n",
    "\n",
    "a = \n",
    "b = \n",
    "\n",
    "\n",
    "A = (generate_A(a,g,p))\n",
    "B = (generate_B(b,g,p))\n",
    "K1 = (generate_K(B,a,p))\n",
    "\"\"\"\n",
    "\"\"\"\n",
    "TODO: Fill out K2 so you can check if K1 and K2 are the same\n",
    "\n",
    "K2 = (generate_K())\n",
    "\"\"\""
   ]
  },
  {
   "cell_type": "markdown",
   "id": "081bdf1d",
   "metadata": {},
   "source": [
    "Now that you've tested that the simple Diffie-Hellman code works, let's move on! \n",
    "\n",
    "Unfortunately, humans are not the best at finding random numbers. Let's therefore use a library we've covered already: `secrets`"
   ]
  },
  {
   "cell_type": "code",
   "execution_count": null,
   "id": "0c9193fa",
   "metadata": {},
   "outputs": [],
   "source": [
    "from secrets import randbelow\n",
    "\n",
    "def generate_A_and_a(g, p):\n",
    "    a = randbelow(p - 1) + 1\n",
    "    return (a, g**a % p)"
   ]
  },
  {
   "cell_type": "markdown",
   "id": "f0ea5d36",
   "metadata": {},
   "source": [
    "#### Question 4.2.1: Explain what happens in the code snippet above. Why do we use `randbelow(p-1)+1`?"
   ]
  },
  {
   "cell_type": "raw",
   "id": "3f51fb71",
   "metadata": {},
   "source": [
    "# Fill in your answer here."
   ]
  },
  {
   "cell_type": "markdown",
   "id": "a345473f",
   "metadata": {},
   "source": [
    "Now, let's assume two other groups tried to have a conversation that your group wasn't invited in on. Try to figure out how you may find the private number $a$ and thus $K$ by only eavesdropping on the information provided - namely $A$, $g$ and $p$."
   ]
  },
  {
   "cell_type": "code",
   "execution_count": null,
   "id": "2dd3c115",
   "metadata": {},
   "outputs": [],
   "source": [
    "unknown_a, A = generate_A_and_a(g, p)\n",
    "B = generate_B(5, g, p)\n",
    "unknown_K = generate_K(B, unknown_a, p)\n",
    "\n",
    "\n",
    "def find_a(A, g, p):\n",
    "    \"\"\"\"\n",
    "    TODO: Fill in your code here without using unknown_a to figure out what a is\n",
    "\n",
    "    \"\"\"\n",
    "    return False\n",
    "\n",
    "\n",
    "\n",
    "a = find_a(A, g, p)\n",
    "print(f\" Found a: {a}, actual a: {unknown_a}\")\n",
    "K = generate_K(B, a, p)\n",
    "print(f\" Found K: {K}, actual K: {unknown_K}\")"
   ]
  },
  {
   "cell_type": "markdown",
   "id": "77e8dd30",
   "metadata": {},
   "source": [
    "<details>\n",
    "<summary><strong>💡 Hint</strong></summary>\n",
    "\n",
    "Considering that $p$ is such a small number, is it possible to brute force this? \n",
    "</details>"
   ]
  },
  {
   "cell_type": "markdown",
   "id": "7a3c1ac3",
   "metadata": {},
   "source": [
    "### 🔒 Final Note: From Learning to the Real World\n",
    "\n",
    "Every time you visit a website with a little padlock in the address bar, your browser is using the **same core ideas** you've just explored (algorithms like Diffie-Hellman) to agree on secret keys and keep your data safe.\n",
    "\n",
    "> ⚠️ **Important Warning**  \n",
    "> The code you've written here is great for learning, but it should **never be used in real-world security systems**.  \n",
    "> Writing secure cryptographic code is extremely difficult, and even small mistakes can lead to serious vulnerabilities.  \n",
    "> \n",
    "> Real-world systems use much **larger numbers** and rely on carefully tested, expert-built libraries.\n"
   ]
  },
  {
   "cell_type": "markdown",
   "id": "ef4e74ae",
   "metadata": {},
   "source": [
    "# MARIUS: *Burde vi her vise viktigheten av større primes? Eller blir det for mye? Han har en oppgave om å finne et primtall større enn en bestemt grense for å lage p. Usikker på hvor mye det gir.*"
   ]
  },
  {
   "cell_type": "markdown",
   "id": "93c8e2c9",
   "metadata": {},
   "source": [
    "---"
   ]
  },
  {
   "cell_type": "markdown",
   "id": "9ee492a5",
   "metadata": {},
   "source": [
    "## 5 Hashfunksjoner"
   ]
  },
  {
   "cell_type": "markdown",
   "id": "7a02b8e2",
   "metadata": {},
   "source": [
    "Earlier, we looked at how we can ensure that no one can read the messages we send back and forth. Encryption also has another important purpose: to make sure that no one can alter the message while it is in trasnit. To understand why this is useful, imagine that you’re about to transfer 200 NOK to a friend. But by the time your message reaches the online bank, it has been changed to say that you want to transfer 2,000 NOK to your professor instead. This section is about a tool we have to help with this — hash functions."
   ]
  },
  {
   "cell_type": "markdown",
   "id": "814691a6",
   "metadata": {},
   "source": [
    "### 5.1 Barcodes\n",
    "We’ll start with an example used every time we’re at the store — the EAN-13 barcode. It is not a hash function per se, but it exhibits similar properties as one. Find a book nearby and look at the back. There, you’ll most often see a barcode with 13 digits underneath. The job of the last digit is to check whether an error has occurred in the other 12. If there has been an error, the cashier has to scan the item again — but that’s far better than accidentally registering a carton of cream when it was supposed to be milk. We’re now going to build a program that does the same thing as the checkout system in your local grocery store.\n",
    "\n",
    "The rule is simple enough: Start with 12 digits, and process them one by one. Add the 2nd, 4th, 6th, etc. digits and multiply the sum by 3. Then add the 1st, 3rd, 5th, etc. digits and add that to your previous result. Look at the number you now have, and figure out how much you need to add to reach the nearest multiple of ten above. That’s your check digit."
   ]
  },
  {
   "cell_type": "code",
   "execution_count": null,
   "id": "243f0a9c",
   "metadata": {},
   "outputs": [],
   "source": [
    "def interpret_barcode(barcode):\n",
    "    \"\"\"Helper function for converting a barcode string into a list of digits.\"\"\"\n",
    "    # Check that we have a valid length of the barcode and that it only contains digits.\n",
    "    if (len(barcode) != 13) or not (barcode.isdigit()):\n",
    "        return None\n",
    "\n",
    "    # Convert the string into a list of digits\n",
    "    digits = [int(d) for d in barcode]\n",
    "\n",
    "    return digits\n",
    "\n",
    "def verify_barcode(digits):\n",
    "    \"\"\"\n",
    "    TODO:\n",
    "    Implement a function to verify a barcode using the checksum algorithm described for EAN-13.\n",
    "    The function should return True if the barcode is valid, and False otherwise.\n",
    "    \"\"\"\n",
    "    return  # Replace this with your code\n",
    "\n",
    "verify_barcode(interpret_barcode(\"9780062731029\"))  # Should return True\n",
    "verify_barcode(interpret_barcode(\"9780062731028\"))  # Should return False"
   ]
  },
  {
   "cell_type": "markdown",
   "id": "041519ee",
   "metadata": {},
   "source": [
    "#### Question 5.1: Check these barcodes: `9788205260429` and `978098146739`. If any of the check digits are incorrect, are you able to find the correct check digit?"
   ]
  },
  {
   "cell_type": "raw",
   "id": "0ade391b",
   "metadata": {
    "vscode": {
     "languageId": "raw"
    }
   },
   "source": [
    "# Fill in your answer here."
   ]
  },
  {
   "cell_type": "markdown",
   "id": "59142c21",
   "metadata": {},
   "source": [
    "#### Question 5.2: Could cheksum functionality, like we saw in EAN-13, be used for verification in secret messaging? Why or why not?"
   ]
  },
  {
   "cell_type": "raw",
   "id": "09fb2e19",
   "metadata": {
    "vscode": {
     "languageId": "raw"
    }
   },
   "source": [
    "# Fill in your answer here."
   ]
  },
  {
   "cell_type": "markdown",
   "id": "5b478d22",
   "metadata": {},
   "source": [
    "### 5.2: Using actual hash functions\n",
    "Now we’re not going to try to program our own hash functions, because fortunately they are built into Python. All we need to do is create a small wrapper around the built-in functions to make them easier for us to use.\n",
    "\n",
    "The hash function we’ll use now is strong enough to be used in almost any situation where high security is needed. It’s called SHA-256 and is commonly used in real-world systems. We have already defined a method for using it to hash data, as found in the code block below."
   ]
  },
  {
   "cell_type": "code",
   "execution_count": null,
   "id": "defb66a8",
   "metadata": {},
   "outputs": [],
   "source": [
    "from hashlib import sha256\n",
    "\n",
    "def hash(data):\n",
    "    h = sha256()\n",
    "    h.update(data.encode())\n",
    "    return h.hexdigest()"
   ]
  },
  {
   "cell_type": "markdown",
   "id": "487f2c0d",
   "metadata": {},
   "source": [
    "You can test the function by for passing in arbitrary data. Try it for your self and observe how the output differs. You can also observe how the length of the output stays the same, regardless of your input.  "
   ]
  },
  {
   "cell_type": "markdown",
   "id": "59647680",
   "metadata": {},
   "source": [
    "Previously, you programmed the Caesar cipher. However, one of its many weaknesses is that if you send the message with a messenger, the messenger can simply insert an entirely new message. It will probably be completely incomprehensible when decrypted, but there's no way for the recipient to determine whether you made a mistake or if the messenger tampered with the message. Now, we can do something about that.\n",
    "\n",
    "We introduce the concept of a Message Authentication Code (MAC). MACs helps you verify that a message hasn’t been changed and that it came from someone who knows the secret key. It’s a way of adding a signature to a message that only the sender and receiver can create and verify — using a shared secret key. We can create a MAC by hashing the key and message together, and we can verify it by checking that the MAC someone gives us matches the MAC we calculate ourselves.\n",
    "\n",
    "And now it's your turn to implement a function for both generating and verifying MACs:"
   ]
  },
  {
   "cell_type": "code",
   "execution_count": null,
   "id": "a4c28d8e",
   "metadata": {},
   "outputs": [],
   "source": [
    "def mac(key, message):\n",
    "    \"\"\"\n",
    "    TODO:\n",
    "    Implement a function to create a message authentication code (MAC) using the provided key and message.\n",
    "    \"\"\"\n",
    "    return # Replace this with your code\n",
    "\n",
    "def verify_mac(key, message, mac):\n",
    "    \"\"\"\n",
    "    TODO:\n",
    "    Implement a function to verify a message authentication code (MAC) using the provided key, message, and MAC.\n",
    "    This function should return True if the MAC is valid, and False otherwise.\n",
    "    \"\"\"\n",
    "\n",
    "    return # Replace this with your code"
   ]
  },
  {
   "cell_type": "markdown",
   "id": "1501bf91",
   "metadata": {},
   "source": [
    "## 6: Putting it all together"
   ]
  },
  {
   "cell_type": "markdown",
   "id": "c344393f",
   "metadata": {},
   "source": [
    "**Prerequisites:**\n",
    "- Complete all parts 1-5 of this lab\n",
    "- Complemte the IoT lab\n",
    "\n",
    "Now the time has come to put everything together. Your task is to create your own secret messaging scheme for the MicroBit. How you do this is up to you, but we have some pointers on how the scheme should work:\n",
    "1. You should be able to exchange secret messages between two MicroBits. \n",
    "2. Provided with the same keys, the two MicroBits should be able to correctly decrypt eachother messages. \n",
    "3. Messages that has been changed in transit should be flagged somehow, meaning that you will have to implement message authentication. \n",
    "4. Two MicroBits with different keys should be able do correctly decrypt eachother's messages.  "
   ]
  }
 ],
 "metadata": {
  "kernelspec": {
   "display_name": "Python 3",
   "language": "python",
   "name": "python3"
  },
  "language_info": {
   "codemirror_mode": {
    "name": "ipython",
    "version": 3
   },
   "file_extension": ".py",
   "mimetype": "text/x-python",
   "name": "python",
   "nbconvert_exporter": "python",
   "pygments_lexer": "ipython3",
   "version": "3.9.0"
  }
 },
 "nbformat": 4,
 "nbformat_minor": 5
}
