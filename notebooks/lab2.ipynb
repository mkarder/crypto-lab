{
 "cells": [
  {
   "cell_type": "markdown",
   "id": "60f60064",
   "metadata": {},
   "source": [
    "# Putting it all together"
   ]
  },
  {
   "cell_type": "markdown",
   "id": "eab49c38",
   "metadata": {},
   "source": [
    "**Prerequisites:**\n",
    "- Complete all parts 1-5 of this lab\n",
    "- Complemte the IoT lab\n",
    "\n",
    "Now the time has come to put everything together. Your task is to create your own secret messaging scheme for the MicroBit. How you do this is up to you, but we have some pointers on how the scheme should work:\n",
    "1. You should be able to exchange secret messages between two MicroBits. \n",
    "2. Provided with the same keys, the two MicroBits should be able to correctly decrypt eachother messages. \n",
    "3. Messages that has been changed in transit should be flagged somehow, meaning that you will have to implement message authentication. \n",
    "4. Two MicroBits with different keys should be able do correctly decrypt eachother's messages.  "
   ]
  },
  {
   "cell_type": "markdown",
   "id": "a457ebc2",
   "metadata": {},
   "source": []
  }
 ],
 "metadata": {
  "language_info": {
   "name": "python"
  }
 },
 "nbformat": 4,
 "nbformat_minor": 5
}
