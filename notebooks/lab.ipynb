{
 "cells": [
  {
   "cell_type": "markdown",
   "id": "06a94779",
   "metadata": {},
   "source": [
    "# Crypto Lab Part 1"
   ]
  },
  {
   "cell_type": "markdown",
   "id": "e04610aa",
   "metadata": {},
   "source": [
    "## 1 What is Cryptography? "
   ]
  },
  {
   "cell_type": "markdown",
   "id": "3129d884",
   "metadata": {},
   "source": [
    "## 2 Classical Ciphers"
   ]
  },
  {
   "cell_type": "markdown",
   "id": "bb4c6c11",
   "metadata": {},
   "source": [
    "### 2.1 Caeser Cipher"
   ]
  },
  {
   "cell_type": "markdown",
   "id": "03a70f01",
   "metadata": {},
   "source": [
    "A cipher is a system for transforming plain text into a code that others should not be able to read. We will have a look at one of the oldest and most famous ciphers, the **Caesar cipher** — named after Gaius Julius Caesar, who likely used it to send secret messages. It's hardly the best way to prevent others from reading your messages, but we'll get back to that. There exists ready-made Python modules you can use if you want to create something more secure, but for now, we’ll try to implement the Caesar cipher ourselves.\n",
    "\n",
    "An intutive way to visualize the Caesar cipher is to draw the letters of the alphabet in a circle:"
   ]
  },
  {
   "cell_type": "markdown",
   "id": "0254980f",
   "metadata": {},
   "source": [
    "<center><img src=\"../images/alphabet-wheel.png\"/></center>"
   ]
  },
  {
   "cell_type": "markdown",
   "id": "86de8ca7",
   "metadata": {},
   "source": [
    "To create a secret letter from a regular letter, we must use a number as a **secret key**. Both I and Ceasar likes the number 3, so we’ll use that."
   ]
  },
  {
   "cell_type": "code",
   "execution_count": null,
   "id": "a0a79cb0",
   "metadata": {},
   "outputs": [],
   "source": [
    "A + 3 = D   T + 3 = W   Z + 3 = C "
   ]
  },
  {
   "cell_type": "markdown",
   "id": "c77061c2",
   "metadata": {},
   "source": [
    "We start with A and count forward 3 letters: B, C, D. So the letter A becomes the letter D. To decode, we do the same but in reverse. We start with D and count backward to get A. \n",
    "\n",
    "Now, we'll try to implement this in code! Below is a code cell where you find some skeleton code for an `encode()` and a `decode()` function. Fill in the missing parts of the functions so they can be used to encrypt and decrypt the input. You can run the cell to verify if your solution works as expected."
   ]
  },
  {
   "cell_type": "code",
   "execution_count": null,
   "id": "55eb828f",
   "metadata": {},
   "outputs": [],
   "source": [
    "alphabet = \"abcdefghijklmnopqrstuvwxyz\"\n",
    "\n",
    "def encode(character, key):\n",
    "    \"\"\"\n",
    "    TODO: \n",
    "    Implement Caesar cipher encoding for a single lowercase letter.\n",
    "    \"\"\"\n",
    "\n",
    "    return  # Replace this with your code\n",
    "\n",
    "def decode(character, key):\n",
    "    \"\"\"\n",
    "    TODO: \n",
    "    Implement Caesar cipher decoding for a single lowercase letter.\n",
    "    \"\"\"\n",
    "\n",
    "    return  # Replace this with your code\n",
    "\n",
    "# Test examples\n",
    "print(encode(\"a\", 17))  # Expected output: 'r'\n",
    "print(decode(\"r\", 17))  # Expected output: 'a'\n"
   ]
  },
  {
   "cell_type": "markdown",
   "id": "a68422d7",
   "metadata": {},
   "source": [
    "<details>\n",
    "<summary><strong>💡 Hint</strong></summary>\n",
    "\n",
    "Encryption steps:\n",
    "1. Find the index of the character in the alphabet.  \n",
    "2. Add the key to this index to \"shift\" the letter.  \n",
    "3. Use some trickery to wrap around if you go past 'z', like modulus operations.  \n",
    "4. Return the new letter from the alphabet.\n",
    "\n",
    "Decryption steps:\n",
    "1. Find the index of the character in the alphabet.\n",
    "2. Subtract the key to reverse the shift.\n",
    "3. Use some trickery to wrap around if you go before 'z'.\n",
    "4. Return the original letter from the alphabet.\n",
    "\n",
    "</details>\n"
   ]
  },
  {
   "cell_type": "markdown",
   "id": "0f386e94",
   "metadata": {},
   "source": [
    "Now that we have some functions, let's use them to encode words and phrases. We'll go through each letter in the word and encode it if it's in the alphabet (we'll skip characters like periods and spaces). Below is a code cell where we use the prior functions to encrypt and decrypt phrases. Running it should display the encryption and decrytion of `hello world`. Run it to see for yourself. \n",
    "\n",
    "*NB: Before running this cell, make sure you’ve already run the one above that defines the encode and decode functions. Otherwise, this code won’t work!*"
   ]
  },
  {
   "cell_type": "code",
   "execution_count": null,
   "id": "dda770ff",
   "metadata": {},
   "outputs": [],
   "source": [
    "key = 17\n",
    "message = \"hello world\"\n",
    "\n",
    "output = \"\"\n",
    "\n",
    "for character in message:\n",
    "    if character in alphabet:\n",
    "        output = output + encode(character, key)\n",
    "    else:\n",
    "        output = output + character\n",
    "\n",
    "\n",
    "print(output)\n",
    "\n",
    "key = 17\n",
    "message = \"yvccf nficu\"\n",
    "output = \"\"\n",
    "\n",
    "for character in message:\n",
    "    if character in alphabet:\n",
    "        output = output + decode(character, key)\n",
    "    else:\n",
    "        output = output + character\n",
    "\n",
    "print(output)"
   ]
  },
  {
   "cell_type": "markdown",
   "id": "ced24b38",
   "metadata": {},
   "source": [
    "In the same way we wrote functions to encode and decode individual letters, we now want to create functions to encrypt and decrypt entire messages. Your next task is to automate what we did above to encrypt and decrypt messages. Your task is to:\n",
    "1. Write a function `encrypt()` that takes `message` and `key` as input, and returns the encrypted message using this key.\n",
    "2. Write a function `decrypt()` that takes `secretmessage` and `key` as input, and returns the decrypted message using this key.\n",
    "\n",
    "The skeleton code for these two functions is provided below. "
   ]
  },
  {
   "cell_type": "code",
   "execution_count": null,
   "id": "9add606f",
   "metadata": {},
   "outputs": [],
   "source": [
    "def encrypt(message, key):\n",
    "    \"\"\"\n",
    "    TODO:\n",
    "    Write a function to encrypt a full message using the Caesar cipher.\n",
    "    \"\"\"\n",
    "    return  # Replace with your implementation\n",
    "\n",
    "\n",
    "def decrypt(secretmessage, key):\n",
    "    \"\"\"\n",
    "    TODO:\n",
    "    Write a function to decrypt a full message using the Caesar cipher.\n",
    "    \"\"\"\n",
    "    return  # Replace with your implementation\n",
    "\n",
    "\n",
    "# Example tests\n",
    "print(encrypt(\"hello world\", 5))   # Expected: 'mjqqt btwqi'\n",
    "print(decrypt(\"mjqqt btwqi\", 5))   # Expected: 'hello world'\n"
   ]
  },
  {
   "cell_type": "markdown",
   "id": "3208feaf",
   "metadata": {},
   "source": [
    "#### Expanding the Alphabet\n",
    "\n",
    "We want to be able to encrypt different characters, not just lowercase letters. Then we need to make our program a bit more flexible, since we have said that our code only works properly if we have 26 characters in the alphabet. For now, we want to add uppercase letters, but it is also possible to add special characters like `,`, `.`, `?`, and `!`. "
   ]
  },
  {
   "cell_type": "code",
   "execution_count": null,
   "id": "63aacd8d",
   "metadata": {},
   "outputs": [],
   "source": [
    "alphabet = \"abcdefghijklmnopqrstuvwxyzABCDEFGHIJKLMNOPQRSTUVWXYZ\"\n",
    "l = len(alphabet)\n",
    "\n",
    "def dynamic_encode(character, key):\n",
    "    \"\"\"\n",
    "    TODO: \n",
    "    Implement Caesar cipher encoding for a single character in an arbitrary long alphabet.\n",
    "    \"\"\"\n",
    "\n",
    "    return  # Replace this with your code\n",
    "\n",
    "def dynamic_decode(character, key):\n",
    "    \"\"\"\n",
    "    TODO: \n",
    "    Implement Caesar cipher decoding for a single character in an arbitrary long alphabet.\n",
    "    \"\"\"\n",
    "\n",
    "    return  # Replace this with your code\n",
    "\n",
    "# Test examples\n",
    "print(dynamic_encode(\"a\", 26))  # Expected output: 'A'\n",
    "print(dynamic_decode(\"X\", 29))  # Expected output: 'u'\n"
   ]
  },
  {
   "cell_type": "markdown",
   "id": "9f038352",
   "metadata": {},
   "source": [
    "#### [Optional Challenge]: Decrypting without the key \n",
    "\n",
    "We end this section with a challenge! Below are three different messages encrypted using different keys. They all contain common english words, but might have been encrypted using different alphabets. Use the provided skeleton code to find the secret keys and print the original messages. "
   ]
  },
  {
   "cell_type": "code",
   "execution_count": null,
   "id": "91531ad2",
   "metadata": {},
   "outputs": [],
   "source": [
    "secretmessage_1 = \"jhlzhy\"\n",
    "secretmessage_2 = \"HVWg Wg O gSQfSh aSggOUS\"\n",
    "secretmessage_3 = \"ZCCHMF RODBHzK BGzQzBSDQRv KHJD 'v'v 'w'v 'x'v zMC 'y' LzJDR SGHMFR GzQCDQw\"\n",
    "\n",
    "def find_key(secretmessage):\n",
    "    \"\"\"\n",
    "    TODO: \n",
    "    Implement a way to find the key for a given secret message and print out the original message.\n",
    "    \"\"\"\n",
    "    return # Replace this with your code\n",
    "\n"
   ]
  },
  {
   "cell_type": "markdown",
   "id": "479562d4",
   "metadata": {},
   "source": [
    "<details>\n",
    "<summary><strong>💡 Hint</strong></summary>\n",
    "The key size of the alphabet is not too large. I mean, we already have functions to decrypt secret messages...why not just try it with all possible keys?\n",
    "</details>"
   ]
  },
  {
   "cell_type": "markdown",
   "id": "9bd42668",
   "metadata": {},
   "source": [
    "## 3 Symmetric Encryption"
   ]
  },
  {
   "cell_type": "markdown",
   "id": "49f9e6f1",
   "metadata": {},
   "source": [
    "### 3.1 Advanced Encryption Standard (AES)"
   ]
  },
  {
   "cell_type": "markdown",
   "id": "bf6f738d",
   "metadata": {},
   "source": [
    "## 4 Asymmetric Encryption"
   ]
  },
  {
   "cell_type": "markdown",
   "id": "16463573",
   "metadata": {
    "vscode": {
     "languageId": "plaintext"
    }
   },
   "source": [
    "### 4.1 Primes and Randomness"
   ]
  },
  {
   "cell_type": "markdown",
   "id": "0c8ab893",
   "metadata": {},
   "source": [
    "#### Primes"
   ]
  },
  {
   "cell_type": "markdown",
   "id": "80e4e3a7",
   "metadata": {},
   "source": [
    "Prime numbers are numbers that can only be divided evenly by 1 and themselves, such as 2, 3, 5, 7, and 11.\n",
    "\n",
    "In modern cryptography, prime numbers are essential because it’s very hard to factor large numbers into their prime components. However, cryptographic systems don’t use small primes like 2 or 5 — instead, they rely on extremely large prime numbers for strong security."
   ]
  },
  {
   "cell_type": "markdown",
   "id": "31cd794f",
   "metadata": {},
   "source": [
    "Now, let's get started by looking at a number to see if it is a prime or not! \n",
    "\n",
    "Below you have a function 'is_prime' to check if a number is prime or not. Have a look at it and make sure you understand how it works."
   ]
  },
  {
   "cell_type": "code",
   "execution_count": null,
   "id": "df254550",
   "metadata": {},
   "outputs": [],
   "source": [
    "def is_prime(n):\n",
    "    for i in range(2, n):\n",
    "        if n % i == 0:\n",
    "            return False\n",
    "    return True\n",
    "  \n",
    "print(is_prime(15)) # Should return False\n",
    "print(is_prime(29)) # Should return True"
   ]
  },
  {
   "cell_type": "markdown",
   "id": "b4c6a18a",
   "metadata": {},
   "source": [
    "**Question**: Explain what the function does at each line"
   ]
  },
  {
   "cell_type": "markdown",
   "id": "5da1f60d",
   "metadata": {},
   "source": [
    "**Answer**: *(Answer by double-clicking this text)*"
   ]
  },
  {
   "cell_type": "markdown",
   "id": "3c3a2c2c",
   "metadata": {},
   "source": [
    "Unfortunately, this function only works for small prime numbers. If you test with 'is_prime(2147483647)', you will see that the program takes quite a long time to finish. Thus, we'll have to improve the code to be faster!\n",
    "\n",
    "In order to increase the computational speed, we will use a mathematical argument. Let's assume $n$ is a product of to other numbers $p$ and $q$: \n",
    "\n",
    "$$n=pq$$\n",
    "\n",
    "Here, either $p$ or $q$ has to be smaller (or equal) to $\\sqrt{n}$. Why? If both are bigger than $n$, we'll have the following:\n",
    "\n",
    "$$ n=pq > \\sqrt{n}\\sqrt{n}=n $$\n",
    "\n",
    "Now we have that $n>n$, which is impossible. Thus, one or the other has to be smaller or equal to $\\sqrt{n}$."
   ]
  },
  {
   "cell_type": "markdown",
   "id": "797cd827",
   "metadata": {},
   "source": [
    "Use this new knowledge to complete the code below. The only thing you need to change is the range of the function to avoid going through all possible digits up to $n$: "
   ]
  },
  {
   "cell_type": "code",
   "execution_count": null,
   "id": "03b8821d",
   "metadata": {},
   "outputs": [],
   "source": [
    "from math import sqrt, ceil\n",
    "\n",
    "def is_prime(n):\n",
    "    \"\"\"\n",
    "    TODO: By using this new knowledge, change the '??' so it is possible to quickly computate is_prime(2147483647)\n",
    "\n",
    "    for i in range(2, ??):\n",
    "        if n % i == 0:\n",
    "            return False\n",
    "    return True\n",
    "    \"\"\"\n",
    "\n",
    "print(is_prime(15)) # Should return False\n",
    "print(is_prime(25)) # Should return False\n",
    "print(is_prime(29)) # Should return True\n",
    "print(is_prime(2147483647)) # Should return True"
   ]
  },
  {
   "cell_type": "markdown",
   "id": "07b66e45",
   "metadata": {},
   "source": [
    "<details>\n",
    "<summary><strong>💡 Hint</strong></summary>\n",
    "\n",
    "1. Try using the newly imported functions, sqrt and ceil (ceil will round up to the nearest integer which is important to use since sqrt may return floats)\n",
    "2. If 25 doesn't return False, maybe you should add 1? Make sure you understand why it works now by going through each iteration to see what happens.\n",
    "</details>"
   ]
  },
  {
   "cell_type": "markdown",
   "id": "cb1494fa",
   "metadata": {},
   "source": [
    "Good job! You can now check if a number is prime. However, there are ways to make the algorithm run much faster, especially for large numbers.\n",
    "\n",
    "Can you think of any improvements to optimize it?\n",
    "\n",
    "**Question**: Can you come up with two ways to improve the code so it runs faster for large numbers?"
   ]
  },
  {
   "cell_type": "markdown",
   "id": "3cda3d1a",
   "metadata": {},
   "source": [
    "**Answer:** "
   ]
  },
  {
   "cell_type": "markdown",
   "id": "383788cd",
   "metadata": {},
   "source": [
    "<details>\n",
    "<summary><strong>💡 Hint</strong></summary>\n",
    "\n",
    "Do you *really* need to check all digits each time? Could it be a prime if it is an even number? \n",
    "</details>"
   ]
  },
  {
   "cell_type": "markdown",
   "id": "d7382f5f",
   "metadata": {},
   "source": [
    "#### Randomness"
   ]
  },
  {
   "cell_type": "markdown",
   "id": "90eec8f3",
   "metadata": {},
   "source": [
    "However, if the same prime numbers are reused repeatedly, it becomes easier for an attacker to figure them out. That’s why **randomness** is a key part of modern cryptography.\n",
    "\n",
    "### 🔐 Kerckhoffs's Principle\n",
    "\n",
    "> **A cryptographic system should remain secure even if everything about it is public—except the key.**\n",
    "\n",
    "For example, consider the **Caesar Cipher** which we previously looked at:  \n",
    "If the shift is always fixed at 3, there’s essentially no key and thus no real security. But if the shift is chosen **randomly** and kept **secret**, the cipher becomes (a bit) more secure."
   ]
  },
  {
   "cell_type": "markdown",
   "id": "6700aa08",
   "metadata": {},
   "source": [
    "Below you can see a code snippet of how to compute random numbers using 'random'.   \n",
    "Run the code several times to check if the same numbers appears several times:"
   ]
  },
  {
   "cell_type": "code",
   "execution_count": null,
   "id": "5c5ac3c4",
   "metadata": {},
   "outputs": [],
   "source": [
    "from random import randint\n",
    "\n",
    "for i in range(100):\n",
    "    print(randint(0, 1000))"
   ]
  },
  {
   "cell_type": "markdown",
   "id": "af050165",
   "metadata": {},
   "source": [
    "By looking at this examples it may seem like random numbers appears, but unfortunately, computers are not very good at creating truly random numbers. That’s why we often talk about *pseudo-random* numbers.\n",
    "\n",
    "It's like using a machine to roll a die. If the machine uses the exact same force and angle every time, the result will always be the same.\n",
    "\n",
    "Similarly, computers need a starting point to generate random numbers, called a seed. If you use the same seed, you’ll always get the same sequence of numbers.\n",
    "\n",
    "Run the code snippet below and verify, does the same numbers appear every single time?"
   ]
  },
  {
   "cell_type": "code",
   "execution_count": null,
   "id": "869b925c",
   "metadata": {},
   "outputs": [],
   "source": [
    "from random import randint, seed\n",
    "\n",
    "seed('Cybdat')\n",
    "\n",
    "for i in range(100):\n",
    "    print(randint(0, 1000))"
   ]
  },
  {
   "cell_type": "markdown",
   "id": "26eb4514",
   "metadata": {},
   "source": [
    "The key takeaway is this: random numbers are only as good as the seed used to generate them. By default, Python uses the exact time the program starts as the seed. If a cryptographer does the same, and an attacker can guess that time (which often isn’t too hard), the entire system can be broken.\n",
    "\n",
    "We've now seen that:\n",
    "1. Random numbers must be **uniformly distributed**.  \n",
    "2. The numbers **depend entirely on the seed**.  \n",
    "3. Now, there's a third issue: **If someone sees previous values, can they predict the next ones?**\n",
    "\n",
    "The Python documentation gives a clear warning:\n",
    "\n",
    "> ⚠️ *The pseudo-random generators of this module should not be used for security purposes. For cryptographic uses, see the `secrets` module.*\n",
    "\n",
    "The reason you shouldn't use Python’s `random` module for secret codes is that its output **may be predictable**.   \n",
    "This is exactly why it's important to read the documentation—especially when working with security.\n"
   ]
  },
  {
   "cell_type": "markdown",
   "id": "8e03aa41",
   "metadata": {},
   "source": [
    "**[Task]:** Read the Python documentation for random numbers in the `secrets` module and change the codes above to use functions from `secrets` instead of `random`. "
   ]
  },
  {
   "cell_type": "markdown",
   "id": "ace17647",
   "metadata": {},
   "source": [
    "### 4.2 Diffie-Hellman Key Exhange (DHKE) "
   ]
  },
  {
   "cell_type": "markdown",
   "id": "9ee492a5",
   "metadata": {},
   "source": [
    "## 5 Hashfunksjoner"
   ]
  }
 ],
 "metadata": {
  "kernelspec": {
   "display_name": "Python 3",
   "language": "python",
   "name": "python3"
  },
  "language_info": {
   "codemirror_mode": {
    "name": "ipython",
    "version": 3
   },
   "file_extension": ".py",
   "mimetype": "text/x-python",
   "name": "python",
   "nbconvert_exporter": "python",
   "pygments_lexer": "ipython3",
   "version": "3.9.0"
  }
 },
 "nbformat": 4,
 "nbformat_minor": 5
}
