{
 "cells": [
  {
   "cell_type": "markdown",
   "id": "06a94779",
   "metadata": {},
   "source": [
    "# Crypto Lab Part 1"
   ]
  },
  {
   "cell_type": "markdown",
   "id": "e04610aa",
   "metadata": {},
   "source": [
    "## 1 What is Cryptography? "
   ]
  },
  {
   "cell_type": "markdown",
   "id": "3129d884",
   "metadata": {},
   "source": [
    "## 2 Classical Ciphers"
   ]
  },
  {
   "cell_type": "markdown",
   "id": "bb4c6c11",
   "metadata": {},
   "source": [
    "### 2.1 Caeser Cipher"
   ]
  },
  {
   "cell_type": "markdown",
   "id": "03a70f01",
   "metadata": {},
   "source": [
    "A cipher is a system for transforming plain text into a code that others should not be able to read. We will have a look at one of the oldest and most famous ciphers, the **Caesar cipher** — named after Gaius Julius Caesar, who likely used it to send secret messages. It's hardly the best way to prevent others from reading your messages, but we'll get back to that. There exists ready-made Python modules you can use if you want to create something more secure, but for now, we’ll try to implement the Caesar cipher ourselves.\n",
    "\n",
    "An intutive way to visualize the Caesar cipher is to draw the letters of the alphabet in a circle:"
   ]
  },
  {
   "cell_type": "markdown",
   "id": "0254980f",
   "metadata": {},
   "source": [
    "<center><img src=\"../images/alphabet-wheel.png\"/></center>"
   ]
  },
  {
   "cell_type": "markdown",
   "id": "86de8ca7",
   "metadata": {},
   "source": [
    "To create a secret letter from a regular letter, we must use a number as a **secret key**. Both I and Ceasar likes the number 3, so we’ll use that."
   ]
  },
  {
   "cell_type": "code",
   "execution_count": null,
   "id": "a0a79cb0",
   "metadata": {
    "vscode": {
     "languageId": "plaintext"
    }
   },
   "outputs": [],
   "source": [
    "A + 3 = D   T + 3 = W   Z + 3 = C "
   ]
  },
  {
   "cell_type": "markdown",
   "id": "c77061c2",
   "metadata": {},
   "source": [
    "We start with A and count forward 3 letters: B, C, D. So the letter A becomes the letter D. To decode, we do the same but in reverse. We start with D and count backward to get A. \n",
    "\n",
    "Now, we'll try to implement this in code! Below is a code cell where you find some skeleton code for an `encode()` and a `decode()` function. Fill in the missing parts of the functions so they can be used to encrypt and decrypt the input. You can run the cell to verify if your solution works as expected."
   ]
  },
  {
   "cell_type": "code",
   "execution_count": null,
   "id": "55eb828f",
   "metadata": {},
   "outputs": [],
   "source": [
    "alphabet = \"abcdefghijklmnopqrstuvwxyz\"\n",
    "\n",
    "def encode(character, key):\n",
    "    \"\"\"\n",
    "    TODO: \n",
    "    Implement Caesar cipher encoding for a single lowercase letter.\n",
    "    \"\"\"\n",
    "\n",
    "    return  # Replace this with your code\n",
    "\n",
    "def decode(character, key):\n",
    "    \"\"\"\n",
    "    TODO: \n",
    "    Implement Caesar cipher decoding for a single lowercase letter.\n",
    "    \"\"\"\n",
    "\n",
    "    return  # Replace this with your code\n",
    "\n",
    "# Test examples\n",
    "print(encode(\"a\", 17))  # Expected output: 'r'\n",
    "print(decode(\"r\", 17))  # Expected output: 'a'\n"
   ]
  },
  {
   "cell_type": "markdown",
   "id": "a68422d7",
   "metadata": {},
   "source": [
    "<details>\n",
    "<summary><strong>💡 Hint</strong></summary>\n",
    "\n",
    "Encryption steps:\n",
    "1. Find the index of the character in the alphabet.  \n",
    "2. Add the key to this index to \"shift\" the letter.  \n",
    "3. Use some trickery to wrap around if you go past 'z', like modulus operations.  \n",
    "4. Return the new letter from the alphabet.\n",
    "\n",
    "Decryption steps:\n",
    "1. Find the index of the character in the alphabet.\n",
    "2. Subtract the key to reverse the shift.\n",
    "3. Use some trickery to wrap around if you go before 'z'.\n",
    "4. Return the original letter from the alphabet.\n",
    "\n",
    "</details>\n"
   ]
  },
  {
   "cell_type": "markdown",
   "id": "0f386e94",
   "metadata": {},
   "source": [
    "Now that we have some functions, let's use them to encode words and phrases. We'll go through each letter in the word and encode it if it's in the alphabet (we'll skip characters like periods and spaces). Below is a code cell where we use the prior functions to encrypt and decrypt phrases. Running it should display the encryption and decrytion of `hello world`. Run it to see for yourself. \n",
    "\n",
    "*NB: Before running this cell, make sure you’ve already run the one above that defines the encode and decode functions. Otherwise, this code won’t work!*"
   ]
  },
  {
   "cell_type": "code",
   "execution_count": null,
   "id": "dda770ff",
   "metadata": {},
   "outputs": [],
   "source": [
    "key = 17\n",
    "message = \"hello world\"\n",
    "\n",
    "output = \"\"\n",
    "\n",
    "for character in message:\n",
    "    if character in alphabet:\n",
    "        output = output + encode(character, key)\n",
    "    else:\n",
    "        output = output + character\n",
    "\n",
    "\n",
    "print(output)\n",
    "\n",
    "key = 17\n",
    "message = \"yvccf nficu\"\n",
    "output = \"\"\n",
    "\n",
    "for character in message:\n",
    "    if character in alphabet:\n",
    "        output = output + decode(character, key)\n",
    "    else:\n",
    "        output = output + character\n",
    "\n",
    "print(output)"
   ]
  },
  {
   "cell_type": "markdown",
   "id": "ced24b38",
   "metadata": {},
   "source": [
    "In the same way we wrote functions to encode and decode individual letters, we now want to create functions to encrypt and decrypt entire messages. Your next task is to automate what we did above to encrypt and decrypt messages. Your task is to:\n",
    "1. Write a function `encrypt()` that takes `message` and `key` as input, and returns the encrypted message using this key.\n",
    "2. Write a function `decrypt()` that takes `secretmessage` and `key` as input, and returns the decrypted message using this key.\n",
    "\n",
    "The skeleton code for these two functions is provided below. "
   ]
  },
  {
   "cell_type": "code",
   "execution_count": null,
   "id": "9add606f",
   "metadata": {},
   "outputs": [],
   "source": [
    "def encrypt(message, key):\n",
    "    \"\"\"\n",
    "    TODO:\n",
    "    Write a function to encrypt a full message using the Caesar cipher.\n",
    "    \"\"\"\n",
    "    return  # Replace with your implementation\n",
    "\n",
    "\n",
    "def decrypt(secretmessage, key):\n",
    "    \"\"\"\n",
    "    TODO:\n",
    "    Write a function to decrypt a full message using the Caesar cipher.\n",
    "    \"\"\"\n",
    "    return  # Replace with your implementation\n",
    "\n",
    "\n",
    "# Example tests\n",
    "print(encrypt(\"hello world\", 5))   # Expected: 'mjqqt btwqi'\n",
    "print(decrypt(\"mjqqt btwqi\", 5))   # Expected: 'hello world'\n"
   ]
  },
  {
   "cell_type": "markdown",
   "id": "3208feaf",
   "metadata": {},
   "source": [
    "#### Expanding the Alphabet\n",
    "\n",
    "We want to be able to encrypt different characters, not just lowercase letters. Then we need to make our program a bit more flexible, since we have said that our code only works properly if we have 26 characters in the alphabet. For now, we want to add uppercase letters, but it is also possible to add special characters like `,`, `.`, `?`, and `!`. "
   ]
  },
  {
   "cell_type": "code",
   "execution_count": null,
   "id": "63aacd8d",
   "metadata": {},
   "outputs": [],
   "source": [
    "alphabet = \"abcdefghijklmnopqrstuvwxyzABCDEFGHIJKLMNOPQRSTUVWXYZ\"\n",
    "l = len(alphabet)\n",
    "\n",
    "def dynamic_encode(character, key):\n",
    "    \"\"\"\n",
    "    TODO: \n",
    "    Implement Caesar cipher encoding for a single character in an arbitrary long alphabet.\n",
    "    \"\"\"\n",
    "\n",
    "    return  # Replace this with your code\n",
    "\n",
    "def dynamic_decode(character, key):\n",
    "    \"\"\"\n",
    "    TODO: \n",
    "    Implement Caesar cipher decoding for a single character in an arbitrary long alphabet.\n",
    "    \"\"\"\n",
    "\n",
    "    return  # Replace this with your code\n",
    "\n",
    "# Test examples\n",
    "print(dynamic_encode(\"a\", 26))  # Expected output: 'A'\n",
    "print(dynamic_decode(\"X\", 29))  # Expected output: 'u'\n"
   ]
  },
  {
   "cell_type": "markdown",
   "id": "9f038352",
   "metadata": {},
   "source": [
    "#### [Optional Challenge]: Decrypting without the key \n",
    "\n",
    "We end this section with a challenge! Below are three different messages encrypted using different keys. They all contain common english words, but might have been encrypted using different alphabets. Use the provided skeleton code to find the secret keys and print the original messages. "
   ]
  },
  {
   "cell_type": "code",
   "execution_count": null,
   "id": "91531ad2",
   "metadata": {},
   "outputs": [],
   "source": [
    "secretmessage_1 = \"jhlzhy\"\n",
    "secretmessage_2 = \"HVWg Wg O gSQfSh aSggOUS\"\n",
    "secretmessage_3 = \"ZCCHMF RODBHzK BGzQzBSDQRv KHJD 'v'v 'w'v 'x'v zMC 'y' LzJDR SGHMFR GzQCDQw\"\n",
    "\n",
    "def find_key(secretmessage):\n",
    "    \"\"\"\n",
    "    TODO: \n",
    "    Implement a way to find the key for a given secret message and print out the original message.\n",
    "    \"\"\"\n",
    "    return # Replace this with your code\n",
    "\n"
   ]
  },
  {
   "cell_type": "markdown",
   "id": "479562d4",
   "metadata": {},
   "source": [
    "<details>\n",
    "<summary><strong>💡 Hint</strong></summary>\n",
    "The key size of the alphabet is not too large. I mean, we already have functions to decrypt secret messages...why not just try it with all possible keys?\n",
    "</details>"
   ]
  },
  {
   "cell_type": "markdown",
   "id": "9bd42668",
   "metadata": {},
   "source": [
    "## 3 Symmetric Encryption"
   ]
  },
  {
   "cell_type": "markdown",
   "id": "49f9e6f1",
   "metadata": {},
   "source": [
    "### 3.1 Advanced Encryption Standard (AES)"
   ]
  },
  {
   "cell_type": "markdown",
   "id": "bf6f738d",
   "metadata": {},
   "source": [
    "## 4 Asymmetric Encryption"
   ]
  },
  {
   "cell_type": "markdown",
   "id": "16463573",
   "metadata": {
    "vscode": {
     "languageId": "plaintext"
    }
   },
   "source": [
    "### 4.1 Primes and Randomness"
   ]
  },
  {
   "cell_type": "markdown",
   "id": "ace17647",
   "metadata": {},
   "source": [
    "### 4.2 Diffie-Hellman Key Exhange (DHKE) "
   ]
  },
  {
   "cell_type": "markdown",
   "id": "9ee492a5",
   "metadata": {},
   "source": [
    "## 5 Hashfunksjoner"
   ]
  },
  {
   "cell_type": "markdown",
   "id": "7a02b8e2",
   "metadata": {},
   "source": [
    "Earlier, we looked at how we can ensure that no one can read the messages we send back and forth. Encryption also has another important purpose: to make sure that no one can alter the message while it is in trasnit. To understand why this is useful, imagine that you’re about to transfer 200 NOK to a friend. But by the time your message reaches the online bank, it has been changed to say that you want to transfer 2,000 NOK to your professor instead. This section is about a tool we have to help with this — hash functions."
   ]
  },
  {
   "cell_type": "markdown",
   "id": "814691a6",
   "metadata": {},
   "source": [
    "### 5.1 Barcodes\n",
    "We’ll start with an example used every time we’re at the store — the EAN-13 barcode. It is not a hash function per se, but it exhibits similar properties as one. Find a book nearby and look at the back. There, you’ll most often see a barcode with 13 digits underneath. The job of the last digit is to check whether an error has occurred in the other 12. If there has been an error, the cashier has to scan the item again — but that’s far better than accidentally registering a carton of cream when it was supposed to be milk. We’re now going to build a program that does the same thing as the checkout system in your local grocery store.\n",
    "\n",
    "The rule is simple enough: Start with 12 digits, and process them one by one. Add the 2nd, 4th, 6th, etc. digits and multiply the sum by 3. Then add the 1st, 3rd, 5th, etc. digits and add that to your previous result. Look at the number you now have, and figure out how much you need to add to reach the nearest multiple of ten above. That’s your check digit."
   ]
  },
  {
   "cell_type": "code",
   "execution_count": null,
   "id": "243f0a9c",
   "metadata": {},
   "outputs": [],
   "source": [
    "def interpret_barcode(barcode):\n",
    "    \"\"\"Helper function for converting a barcode string into a list of digits.\"\"\"\n",
    "    # Check that we have a valid length of the barcode and that it only contains digits.\n",
    "    if (len(barcode) != 13) or not (barcode.isdigit()):\n",
    "        return None\n",
    "\n",
    "    # Convert the string into a list of digits\n",
    "    digits = [int(d) for d in barcode]\n",
    "\n",
    "    return digits\n",
    "\n",
    "def verify_barcode(digits):\n",
    "    \"\"\"\n",
    "    TODO:\n",
    "    Implement a function to verify a barcode using the checksum algorithm described for EAN-13.\n",
    "    The function should return True if the barcode is valid, and False otherwise.\n",
    "    \"\"\"\n",
    "    return  # Replace this with your code\n",
    "\n",
    "verify_barcode(interpret_barcode(\"9780062731029\"))  # Should return True\n",
    "verify_barcode(interpret_barcode(\"9780062731028\"))  # Should return False"
   ]
  },
  {
   "cell_type": "markdown",
   "id": "041519ee",
   "metadata": {},
   "source": [
    "#### Question 5.1: Check these barcodes: `9788205260429` and `978098146739`. If any of the check digits are incorrect, are you able to find the correct check digit?"
   ]
  },
  {
   "cell_type": "raw",
   "id": "0ade391b",
   "metadata": {
    "vscode": {
     "languageId": "raw"
    }
   },
   "source": [
    "# Fill in your answer here."
   ]
  },
  {
   "cell_type": "markdown",
   "id": "59142c21",
   "metadata": {},
   "source": [
    "#### Question 5.2: Could cheksum functionality, like we saw in EAN-13, be used for verification in secret messaging? Why or why not?"
   ]
  },
  {
   "cell_type": "raw",
   "id": "09fb2e19",
   "metadata": {
    "vscode": {
     "languageId": "raw"
    }
   },
   "source": [
    "# Fill in your answer here."
   ]
  },
  {
   "cell_type": "markdown",
   "id": "5b478d22",
   "metadata": {},
   "source": [
    "### 5.2: Using actual hash functions\n",
    "Now we’re not going to try to program our own hash functions, because fortunately they are built into Python. All we need to do is create a small wrapper around the built-in functions to make them easier for us to use.\n",
    "\n",
    "The hash function we’ll use now is strong enough to be used in almost any situation where high security is needed. It’s called SHA-256 and is commonly used in real-world systems. We ave already defined a method for using it to hash data, as found in the code block below."
   ]
  },
  {
   "cell_type": "code",
   "execution_count": null,
   "id": "defb66a8",
   "metadata": {},
   "outputs": [],
   "source": [
    "from hashlib import sha256\n",
    "\n",
    "def hash(data):\n",
    "    h = sha256()\n",
    "    h.update(data.encode())\n",
    "    return h.hexdigest()"
   ]
  },
  {
   "cell_type": "markdown",
   "id": "487f2c0d",
   "metadata": {},
   "source": [
    "You can test the function by for passing in arbitrary data. Try it for your self and observe how the output differs. You can also observe how the length of the output stays the same, regardless of your input.  "
   ]
  },
  {
   "cell_type": "markdown",
   "id": "59647680",
   "metadata": {},
   "source": [
    "Previously, you programmed the Caesar cipher. However, one of its many weaknesses is that if you send the message with a messenger, the messenger can simply insert an entirely new message. It will probably be completely incomprehensible when decrypted, but there's no way for the recipient to determine whether you made a mistake or if the messenger tampered with the message. Now, we can do something about that.\n",
    "\n",
    "We introduce the concept of a Message Authentication Code (MAC). helps you verify that a message hasn’t been changed and that it came from someone who knows a secret key. It’s a way of adding a signature to a message that only the sender and receiver can create and verify — using a shared secret key.We can create a MAC by hashing the key and message together, and we can verify it by checking that the MAC someone gives us matches the MAC we calculate ourselves.\n",
    "\n",
    "And now it's your turn to implement a function for both generating and verifying MACs:"
   ]
  },
  {
   "cell_type": "code",
   "execution_count": null,
   "id": "a4c28d8e",
   "metadata": {},
   "outputs": [],
   "source": [
    "def mac(key, message):\n",
    "    \"\"\"\n",
    "    TODO:\n",
    "    Implement a function to create a message authentication code (MAC) using the provided key and message.\n",
    "    \"\"\"\n",
    "    return # Replace this with your code\n",
    "\n",
    "def verify_mac(key, message, mac):\n",
    "    \"\"\"\n",
    "    TODO:\n",
    "    Implement a function to verify a message authentication code (MAC) using the provided key, message, and MAC.\n",
    "    This function should return True if the MAC is valid, and False otherwise.\n",
    "    \"\"\"\n",
    "\n",
    "    return # Replace this with your code"
   ]
  },
  {
   "cell_type": "markdown",
   "id": "1501bf91",
   "metadata": {},
   "source": [
    "## 6: Putting it all together"
   ]
  },
  {
   "cell_type": "markdown",
   "id": "c344393f",
   "metadata": {},
   "source": [
    "**Prerequisites:**\n",
    "- Complete all parts 1-5 of this lab\n",
    "- Complemte the IoT lab\n",
    "\n",
    "Now the time has come to put everything together. Your task is to create your own secret messaging scheme for the MicroBit. How you do this is up to you, but we have some pointers on how the scheme should work:\n",
    "1. You should be able to exchange secret messages between two MicroBits. \n",
    "2. Provided with the same keys, the two MicroBits should be able to correctly decrypt eachother messages. \n",
    "3. Messages that has been changed in transit should be flagged somehow, meaning that you will have to implement message authentication. \n",
    "4. Two MicroBits with different keys should be able do correctly decrypt eachother's messages.  "
   ]
  }
 ],
 "metadata": {
  "language_info": {
   "name": "python"
  }
 },
 "nbformat": 4,
 "nbformat_minor": 5
}
