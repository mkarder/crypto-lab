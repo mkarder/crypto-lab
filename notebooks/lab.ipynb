{
 "cells": [
  {
   "cell_type": "markdown",
   "id": "06a94779",
   "metadata": {},
   "source": [
    "# Crypto Lab Part 1"
   ]
  },
  {
   "cell_type": "markdown",
   "id": "e04610aa",
   "metadata": {},
   "source": [
    "## 1 What is Cryptography? "
   ]
  },
  {
   "cell_type": "markdown",
   "id": "3129d884",
   "metadata": {},
   "source": [
    "## 2 Classical Ciphers"
   ]
  },
  {
   "cell_type": "markdown",
   "id": "bb4c6c11",
   "metadata": {},
   "source": [
    "### 2.1 Caeser Cipher"
   ]
  },
  {
   "cell_type": "markdown",
   "id": "03a70f01",
   "metadata": {},
   "source": [
    "A cipher is a system for transforming plain text into a code that others should not be able to read. We will use one of the oldest and most famous ciphers, the Caesar cipher — named after Gaius Julius Caesar, who likely used it to send secret messages. It's hardly the best way to prevent others from reading your messages, but we'll get back to that. There are ready-made Python modules you can use if you want to create something more secure, but for now, we’ll try to implement the Caesar cipher ourselves.\n",
    "\n",
    "An intutive way to visualize the Caesar cipher we can draw the letters of the alphabet in a circle:"
   ]
  },
  {
   "cell_type": "markdown",
   "id": "0254980f",
   "metadata": {},
   "source": [
    "<center><img src=\"../images/alphabet-wheel.png\"/></center>"
   ]
  },
  {
   "cell_type": "markdown",
   "id": "86de8ca7",
   "metadata": {},
   "source": [
    "To create a secret letter from a regular letter, we need a number to use as a secret key. I like the number 3, so we’ll use that."
   ]
  },
  {
   "cell_type": "code",
   "execution_count": null,
   "id": "a0a79cb0",
   "metadata": {
    "vscode": {
     "languageId": "plaintext"
    }
   },
   "outputs": [],
   "source": [
    "A + 3 = D   T + 3 = W   Z + 3 = C "
   ]
  },
  {
   "cell_type": "markdown",
   "id": "c77061c2",
   "metadata": {},
   "source": [
    "We start with A and count forward 3 letters: B, C, D. So the letter A becomes the letter D. To decode, we do the same but in reverse. We start with D and count backward to get A. \n",
    "\n",
    "Now, we'll try to implement this in code! Below is a code cell where you find some skeleton code for an `encode()` and a `decode()` function. Fill in the missing parts of the functions so they can be used to encrypt and decrypt inputted characters. You can run the cell to verify if your solution works as expected."
   ]
  },
  {
   "cell_type": "code",
   "execution_count": null,
   "id": "55eb828f",
   "metadata": {},
   "outputs": [],
   "source": [
    "alphabet = \"abcdefghijklmnopqrstuvwxyz\"\n",
    "\n",
    "def encode(character, key):\n",
    "    \"\"\"\n",
    "    TODO: \n",
    "    Implement Caesar cipher encoding for a single lowercase letter.\n",
    "\n",
    "    Example:\n",
    "    encode(\"a\", 3) should return \"d\"\n",
    "    \"\"\"\n",
    "\n",
    "    return  # Replace this with your code\n",
    "\n",
    "def decode(character, key):\n",
    "    \"\"\"\n",
    "    TODO: \n",
    "    Implement Caesar cipher decoding for a single lowercase letter.\n",
    "\n",
    "    Example:\n",
    "    decode(\"d\", 3) should return \"a\"\n",
    "    \"\"\"\n",
    "\n",
    "    return  # Replace this with your code\n",
    "\n",
    "# Test examples\n",
    "print(encode(\"a\", 17))  # Expected output: 'r'\n",
    "print(decode(\"r\", 17))  # Expected output: 'a'\n"
   ]
  },
  {
   "cell_type": "markdown",
   "id": "a68422d7",
   "metadata": {},
   "source": [
    "<details>\n",
    "<summary><strong>💡 Hint</strong></summary>\n",
    "\n",
    "Encryption steps:\n",
    "1. Find the index of the character in the alphabet.  \n",
    "2. Add the key to this index to \"shift\" the letter.  \n",
    "3. Use some trickery to wrap around if you go past 'z', like modulus operations.  \n",
    "4. Return the new letter from the alphabet.\n",
    "\n",
    "Decrytpion steps:\n",
    "1. Find the index of the character in the alphabet.\n",
    "2. Subtract the key to reverse the shift.\n",
    "3. Use some trickery to wrap around if you go before 'z'.\n",
    "4. Return the original letter from the alphabet.\n",
    "\n",
    "</details>\n"
   ]
  },
  {
   "cell_type": "markdown",
   "id": "0f386e94",
   "metadata": {},
   "source": [
    "Now that we have some functions, let's use them to encode words and phrases. We'll go through each letter in the word and encode it if it's in the alphabet (we'll skip characters like periods and spaces). Below is a code cell where we use the prior functions to encrypt and decrypt phrases. Running it should display the encryption and decrytion of `hello world`. Run it to see for yourself. "
   ]
  },
  {
   "cell_type": "code",
   "execution_count": null,
   "id": "dda770ff",
   "metadata": {},
   "outputs": [],
   "source": [
    "key = 17\n",
    "message = \"hello world\"\n",
    "\n",
    "output = \"\"\n",
    "\n",
    "for character in message:\n",
    "    if character in alphabet:\n",
    "        output = output +  encode(character, key)\n",
    "    else:\n",
    "        output = output + character\n",
    "\n",
    "\n",
    "print(output)\n",
    "\n",
    "key = 17\n",
    "message = \"yvccf nficu\"\n",
    "output = \"\"\n",
    "\n",
    "for character in message:\n",
    "    if character in alphabet:\n",
    "        output = output + decode(character, key)\n",
    "    else:\n",
    "        output = output + character\n",
    "\n",
    "print(output)"
   ]
  },
  {
   "cell_type": "markdown",
   "id": "ced24b38",
   "metadata": {},
   "source": [
    "In the same way we wrote functions to encode and decode individual letters, we now want to create functions to encrypt and decrypt entire messages. Your next task is to automate what did above to encrypt and decrypt messages. Your task is to:\n",
    "1. Write a function `encrypt()` that takes `message` and `key` as input, and returns the encrypted message using this key.\n",
    "2. Write a function `decrypt()` that takes `secretmessage` and `key` as input, and returns the decrypted message using this key.\n",
    "\n",
    "The skeleton code for these two functions is provided below. NB! Make sure that the cell where `encode()`and `decode()` is ran before running this, if you choose to reuse these functions. "
   ]
  },
  {
   "cell_type": "code",
   "execution_count": null,
   "id": "9add606f",
   "metadata": {},
   "outputs": [],
   "source": [
    "def encrypt(message, key):\n",
    "    \"\"\"\n",
    "    TODO:\n",
    "    Write a function to encrypt a full message using the Caesar cipher.\n",
    "    \"\"\"\n",
    "    return  # Replace with your implementation\n",
    "\n",
    "\n",
    "def decrypt(secretmessage, key):\n",
    "    \"\"\"\n",
    "    TODO:\n",
    "    Write a function to decrypt a full message using the Caesar cipher.\n",
    "    \"\"\"\n",
    "    return  # Replace with your implementation\n",
    "\n",
    "\n",
    "# Example tests\n",
    "print(encrypt(\"hello world\", 5))   # Expected: 'mjqqt btwqi'\n",
    "print(decrypt(\"mjqqt btwqi\", 5))   # Expected: 'hello world'\n"
   ]
  },
  {
   "cell_type": "markdown",
   "id": "3208feaf",
   "metadata": {},
   "source": [
    "#### Expanding the Alphabet\n",
    "\n",
    "We want to be able to encrypt different characters, not just lowercase letters. Then we need to make our program a bit more flexible, since we have said that our code only works properly if we have 26 characters in the alphabet. For now, we want to add uppercase letters, but you can also add special characters like `,`, `.`, `?`, and `!`. "
   ]
  },
  {
   "cell_type": "code",
   "execution_count": null,
   "id": "63aacd8d",
   "metadata": {},
   "outputs": [],
   "source": [
    "alphabet = \"abcdefghijklmnopqrstuvwxyzABCDEFGHIJKLMNOPQRSTUVWXYZ\"\n",
    "l = len(alphabet)\n",
    "\n",
    "def dynamic_encode(character, key):\n",
    "    \"\"\"\n",
    "    TODO: \n",
    "    Implement Caesar cipher encoding for a single character in an arbitrary long alphabet.\n",
    "\n",
    "    Example using upper and lowercase letters:\n",
    "    dynamic_encode(\"a\", 26) should return \"A\"\n",
    "    \"\"\"\n",
    "\n",
    "    return  # Replace this with your code\n",
    "\n",
    "def dynamic_decode(character, key):\n",
    "    \"\"\"\n",
    "    TODO: \n",
    "    Implement Caesar cipher decoding for a single character in an arbitrary long alphabet.\n",
    "\n",
    "    Example using upper and lowercase letters:\n",
    "    dynamic_decode(\"X\", 29) should return \"u\"\n",
    "    \"\"\"\n",
    "\n",
    "    return  # Replace this with your code\n",
    "\n",
    "# Test examples\n",
    "print(dynamic_encode(\"a\", 26))  # Expected output: 'A'\n",
    "print(dynamic_decode(\"X\", 29))  # Expected output: 'u'\n"
   ]
  },
  {
   "cell_type": "markdown",
   "id": "9f038352",
   "metadata": {},
   "source": [
    "#### Challenge: Decrypting without the key \n",
    "\n",
    "We end this section with a challenge! Below are three different messages encrypted using different keys. They all contain common english words, but might have been encrypted using different alphabets. Use the provided skeleton code to find the secret keys and print the original messages. "
   ]
  },
  {
   "cell_type": "code",
   "execution_count": null,
   "id": "91531ad2",
   "metadata": {},
   "outputs": [],
   "source": [
    "secretmessage_1 = \"jhlzhy\"\n",
    "secretmessage_2 = \"HVWg Wg O gSQfSh aSggOUS\"\n",
    "secretmessage_3 = \"ZCCHMF RODBHzK BGzQzBSDQRv KHJD 'v'v 'w'v 'x'v zMC 'y' LzJDR SGHMFR GzQCDQw\"\n",
    "\n",
    "def find_key(secretmessage):\n",
    "    \"\"\"\n",
    "    TODO: \n",
    "    Implement a way to find the key for a given secret message and print out the original message.\n",
    "    \"\"\"\n",
    "    return # Replace this with your code\n",
    "\n"
   ]
  },
  {
   "cell_type": "markdown",
   "id": "479562d4",
   "metadata": {},
   "source": [
    "<details>\n",
    "<summary><strong>💡 Hint</strong></summary>\n",
    "The key size of the alphabet is not too large. I mean, we already have functions to decrypt secret messages...why not just try it with all possible keys?\n",
    "</details>"
   ]
  },
  {
   "cell_type": "markdown",
   "id": "9bd42668",
   "metadata": {},
   "source": [
    "## 3 Symmetric Encryption"
   ]
  },
  {
   "cell_type": "markdown",
   "id": "49f9e6f1",
   "metadata": {},
   "source": [
    "### 3.1 Advanced Encryption Standard (AES)"
   ]
  },
  {
   "cell_type": "markdown",
   "id": "bf6f738d",
   "metadata": {},
   "source": [
    "## 4 Asymmetric Encryption"
   ]
  },
  {
   "cell_type": "markdown",
   "id": "16463573",
   "metadata": {
    "vscode": {
     "languageId": "plaintext"
    }
   },
   "source": [
    "### 4.1 Primes and Randomness"
   ]
  },
  {
   "cell_type": "markdown",
   "id": "ace17647",
   "metadata": {},
   "source": [
    "### 4.2 Diffie-Hellman Key Exhange (DHKE) "
   ]
  },
  {
   "cell_type": "markdown",
   "id": "9ee492a5",
   "metadata": {},
   "source": [
    "## 5 Hashfunksjoner"
   ]
  }
 ],
 "metadata": {
  "language_info": {
   "name": "python"
  }
 },
 "nbformat": 4,
 "nbformat_minor": 5
}
