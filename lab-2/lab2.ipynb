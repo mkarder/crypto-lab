{
  "cells": [
    {
      "cell_type": "markdown",
      "id": "60f60064",
      "metadata": {},
      "source": [
        "# Crypto Lab 2: Putting it all together"
      ]
    },
    {
      "cell_type": "markdown",
      "id": "eab49c38",
      "metadata": {},
      "source": [
        "**Prerequisites:**\n",
        "- Complete all parts 1-5 of this lab\n",
        "- Complemte the IoT lab\n",
        "\n",
        "Now the time has come to put everything together. Your task is to create your own secret messaging scheme for the Micro:Bit.\n",
        "\n",
        "- Part 1: Verify that the radio works. I.e., two microbits can communicate.\n",
        "- Part 2: Using ChaCha20, we begin securing the communication between two Micro:Bits. We use a static key to begin with and provide code for the receiver-side. \n",
        "- Part 3: Extend with MAC functionality. We provide a custom hashing algortihm for the MAC.  \n",
        "- Part 4: Extend so that the key is no longer static, but computed using DHKE. \n",
        "\n"
      ]
    },
    {
      "cell_type": "markdown",
      "id": "ca1b8cec",
      "metadata": {},
      "source": [
        "---"
      ]
    },
    {
      "cell_type": "markdown",
      "id": "a457ebc2",
      "metadata": {},
      "source": [
        "> **NB: Make sure you have completed Crypto Lab 1: Basic introductions before starting on this lab**"
      ]
    },
    {
      "cell_type": "markdown",
      "id": "8e7a6c5e",
      "metadata": {},
      "source": [
        "In this lab, you’ll take what you learned in the previous crypto lab and bring it to life on real hardware using the **Micro:Bit**. You’ll also be introduced to a new algorithm: **ChaCha20** that you've seen in the preparation materials. \n",
        "\n",
        "To follow along, you’ll need two Micro:Bits - ask your teacher assistants's if you only have one. "
      ]
    },
    {
      "cell_type": "markdown",
      "id": "f6d60184",
      "metadata": {},
      "source": [
        "## 1 Verify that two Micro:Bits can communicate using the Radio"
      ]
    },
    {
      "cell_type": "markdown",
      "id": "d01ab866",
      "metadata": {},
      "source": [
        "First, let’s make sure the two Micro:Bits can communicate with each other!  \n",
        "Copy the code provided in [lab2-1.py](/crypto-lab/lab-2/lab2-1.py) into the [Micro:Bit Web Editor](https://python.microbit.org/v/3) and upload it to **both** of your devices.  \n",
        "\n",
        "Next, choose one Micro:Bit to act as the **sender** and the other as the **receiver**.  \n",
        "- On the sender, press the buttons to transmit a message.  \n",
        "- On the receiver, check that the message is displayed correctly.  \n",
        "\n",
        "> ⚠️ **Important:** Before you run the program, update the `GROUP_NUMBER` in the code to match your assigned rat group.  \n",
        "> Your group number is created by combining your team number with A/B (where A = 0 and B = 1).  \n",
        "\n",
        "Examples:  \n",
        "- Team **1A** → `10`  \n",
        "- Team **1B** → `11` "
      ]
    },
    {
      "cell_type": "markdown",
      "id": "c16b640a",
      "metadata": {},
      "source": [
        "#### Question 1.1: Explain briefly what happens in the code snippet (maximum 3 lines of text)"
      ]
    },
    {
      "cell_type": "raw",
      "id": "4a49aed2",
      "metadata": {},
      "source": [
        "# Fill in your answer here."
      ]
    },
    {
      "cell_type": "markdown",
      "id": "e3112b85",
      "metadata": {},
      "source": [
        "#### Question 1.2: Right now, the messages are sent “in the clear” over the radio - what does this mean?"
      ]
    },
    {
      "cell_type": "raw",
      "id": "94eb009c",
      "metadata": {},
      "source": [
        "# Fill in your answer here."
      ]
    },
    {
      "cell_type": "markdown",
      "id": "a6309cac",
      "metadata": {},
      "source": [
        "#### Question 1.3: What happens if another team nearby sets the same group number?"
      ]
    },
    {
      "cell_type": "raw",
      "id": "13bed8f5",
      "metadata": {},
      "source": [
        "# Fill in your answer here."
      ]
    },
    {
      "cell_type": "markdown",
      "id": "15670e73",
      "metadata": {},
      "source": [
        "Before moving on, let’s make sure the Micro:Bits can talk to each other:  \n",
        "\n",
        "- Choose one Micro:Bit as the **sender** and the other as the **receiver**.  \n",
        "- Press **A** or **B** on the sender.  \n",
        "- Check that the corresponding message appears on the receiver’s display.  \n",
        "\n",
        "✅ Verify that the basic communication works correctly before proceeding to encryption."
      ]
    },
    {
      "cell_type": "markdown",
      "id": "7330bf82",
      "metadata": {},
      "source": [
        "---"
      ]
    },
    {
      "cell_type": "markdown",
      "id": "5accf19b",
      "metadata": {},
      "source": [
        "## 2 Encryption and decryption of messages"
      ]
    },
    {
      "cell_type": "markdown",
      "id": "aa335210",
      "metadata": {},
      "source": [
        "Now that you’ve confirmed the two Micro:Bits can communicate, it’s time to take the next step: implementing a simple **encryption and decryption** mechanism.  \n",
        "\n",
        "1. Copy the code from [lab2-2.py](/crypto-lab/lab-2/lab2-2.py) into the [Micro:Bit Web Editor](https://python.microbit.org/v/3).  \n",
        "2. ⚠️ Don’t forget to update the `GROUP_NUMBER` here as well, just like in Task 1.  \n",
        "3. Send the code to both Micro:Bits. \n",
        "\n",
        "If you look at the new code, you’ll notice that most of the previous functions remain unchanged.  \n",
        "However, a few **new elements have been added**!"
      ]
    },
    {
      "cell_type": "markdown",
      "id": "3e6dfb9c",
      "metadata": {},
      "source": [
        "If you scroll down to the bottom of the Python file, you’ll find a **ChaCha20 module**.  \n",
        "Don’t worry if it looks complex, you are **not expected to fully understand it** in this course - however it will become relevant in later cryptographic courses.\n",
        "\n",
        "As seen in the preparation material, ChaCha20 is a widely used stream cipher.\n",
        "\n",
        "#### Question 2.1: Why does ChaCha20 only have an encrypt function, not decrypt? "
      ]
    },
    {
      "cell_type": "raw",
      "id": "18d71c82",
      "metadata": {},
      "source": [
        "# Fill in your answer here."
      ]
    },
    {
      "cell_type": "markdown",
      "id": "f4380a2c",
      "metadata": {},
      "source": [
        "You’ll also notice some **new constants** in the code:  \n",
        "\n",
        "- `GLOBAL_KEY` → a static global key written in binary format  \n",
        "- `MESSAGE_1` / `MESSAGE_2` → example messages you can use to test the functionality  \n",
        "\n",
        "💡 **Why this matters:** In real-world cryptography, securely sharing and managing keys is one of the hardest challenges.  \n",
        "\n",
        "For now, we use a fixed key for simplicity, but later you’ll see how key exchange and management become critical for secure communication.  "
      ]
    },
    {
      "cell_type": "code",
      "execution_count": 9,
      "id": "484a63fe",
      "metadata": {},
      "outputs": [],
      "source": [
        "GLOBAL_KEY = b'chacha20!'\n",
        "MESSAGE_1 = \"Hello World\"\n",
        "MESSAGE_2 = \"Goodbye World\""
      ]
    },
    {
      "cell_type": "markdown",
      "id": "3ef46745",
      "metadata": {},
      "source": [
        "Furthermore, both functions:`def send_mode()` and `def receive_mode()` are altered. They both call a new function:`on_receive()` before displaying the data: "
      ]
    },
    {
      "cell_type": "code",
      "execution_count": null,
      "id": "9ce06310",
      "metadata": {},
      "outputs": [],
      "source": [
        "def on_receive(received_bytes):\n",
        "    try: \n",
        "        decrypted_bytes = chacha20_encrypt(\n",
        "            received_bytes, GLOBAL_KEY)\n",
        "        data = decrypted_bytes.decode('utf-8')\n",
        "        return data\n",
        "    except TypeError:\n",
        "        return \"TYPE ERROR\"\n",
        "    except:\n",
        "        return \"WEIRD ERROR\""
      ]
    },
    {
      "cell_type": "markdown",
      "id": "db371f81",
      "metadata": {},
      "source": [
        "#### Question 2.2: Explain shortly what happens in the `on_receive` function."
      ]
    },
    {
      "cell_type": "raw",
      "id": "da37dfe1",
      "metadata": {},
      "source": [
        "# Fill in your answer here."
      ]
    },
    {
      "cell_type": "markdown",
      "id": "8ae891b7",
      "metadata": {},
      "source": [
        "Additionally, `def send_mode()` has been altered to send the messages written as constants instead of \"A\" or \"B\" as in part 1. Here, a new function `on_send()` is used instead of `radio.send()`."
      ]
    },
    {
      "cell_type": "markdown",
      "id": "8bdf47fa",
      "metadata": {},
      "source": [
        "Using the `on_receive()` function, let's try to fill out `on_send()`!   \n",
        "\n",
        "#### Task: Follow the steps as written in the TODO and copy your solution into the code block below "
      ]
    },
    {
      "cell_type": "code",
      "execution_count": null,
      "id": "cf075895",
      "metadata": {},
      "outputs": [],
      "source": [
        "def on_send(msg):\n",
        "    \"\"\"\n",
        "    TODO: \n",
        "    Implement a send function that encodes the inputted\n",
        "    message to bytes, encrypts the bytes using chacha20_encrypt()\n",
        "    and then sends the encrypted bytes over the radio.\n",
        "    \"\"\"\n",
        "    pass # Remove this line and implement your solution here"
      ]
    },
    {
      "cell_type": "markdown",
      "id": "c87bc38e",
      "metadata": {},
      "source": [
        "<details>\n",
        "<summary><strong>💡 Hint</strong></summary>\n",
        "\n",
        "Try using the same logic as in on_receive() to fill out on_send(). NOEN BEDRE HINT HER???\n",
        "</details>"
      ]
    },
    {
      "cell_type": "markdown",
      "id": "882d2722",
      "metadata": {},
      "source": [
        "Now that you’ve added encryption, it’s time to test your code:  \n",
        "\n",
        "- Send a message from one Micro:Bit.  \n",
        "- On the receiving side, the message should be **decrypted and displayed correctly**.  \n",
        "- Make sure the communication works for both `MESSAGE_1` and `MESSAGE_2`.  \n",
        "\n",
        "✅ Verify that your devices can still communicate and that your encrypted messages are being properly sent, received, and decrypted."
      ]
    },
    {
      "cell_type": "markdown",
      "id": "39ee4488",
      "metadata": {},
      "source": [
        "## 3 Extend with MAC technology\n",
        "\n"
      ]
    },
    {
      "cell_type": "markdown",
      "id": "9e9e58ca",
      "metadata": {},
      "source": [
        "Great job! Now that the simple encryption through ChaCha20 is in place, let's further implement MAC (Message Authentication Code):\n",
        "\n",
        "1. Copy the code from [lab2-3.py](/crypto-lab/lab-2/lab2-3.py) into the [Micro:Bit Web Editor](https://python.microbit.org/v/3).  \n",
        "2. ⚠️ Don’t forget to update the `GROUP_NUMBER` here as well, just like in Task 1 and 2. \n",
        "3. ⚠️ Make sure to copy the code from task 2 into the function `on_send()`.\n",
        "4. Send the code to both Micro:Bits.  \n",
        "\n",
        "Similarily as in the last task, some parts of the code is now altered!"
      ]
    },
    {
      "cell_type": "markdown",
      "id": "cec26517",
      "metadata": {},
      "source": [
        "Firstly, let's look at the changes made in `on_receive()`: "
      ]
    },
    {
      "cell_type": "code",
      "execution_count": null,
      "id": "0e94707c",
      "metadata": {},
      "outputs": [],
      "source": [
        "def on_receive(received_bytes):\n",
        "    try:\n",
        "        mac, msg = split_data(received_bytes)\n",
        "        decrypted_bytes = chacha20_encrypt(\n",
        "            msg, GLOBAL_KEY)\n",
        "        data = decrypted_bytes.decode('utf-8')\n",
        "\n",
        "        if verify_mac(GLOBAL_KEY.decode('utf-8'),\n",
        "                  data,\n",
        "                  mac):\n",
        "            return data\n",
        "        else:\n",
        "            return \"INVALID MAC\"\n",
        "    except TypeError:\n",
        "        return \"TYPE ERROR\"\n",
        "    except:\n",
        "        return \"UNEXPECTED ERROR\"\n",
        "    \n",
        "def split_data(data):\n",
        "    mac = data[0:2]\n",
        "    msg = data[2:]\n",
        "    return mac, msg"
      ]
    },
    {
      "cell_type": "markdown",
      "id": "f991ff70",
      "metadata": {},
      "source": [
        "The `on_receive()` function has been updated to include **verification of the MAC** sent over the radio.  \n",
        "\n",
        "Here’s what happens step by step:  \n",
        "1. The incoming data is split into two parts using the `split_data()` function:  \n",
        "   - the fixed-length **MAC**  \n",
        "   - the variable-length **message**  \n",
        "2. The message is then **decrypted** and converted back into a readable string.  \n",
        "3. Finally, the `verify_mac()` function checks whether the MAC matches the message.  \n",
        "   - If it does, the message should be returned.  \n",
        "   - If not, an error is shown (e.g., `\"INVALID MAC\"`).  \n",
        "\n",
        "However, this `verify_mac()` function is not yet created. Neither is `generate_mac()`! A simple hash function is created to help you implement these functions. Try to understand how the function works, but don't spend too much time on details. "
      ]
    },
    {
      "cell_type": "markdown",
      "id": "d9fee53c",
      "metadata": {},
      "source": [
        "#### Question 3.1: In this lab, we created `simple_hash()` ourselves. Why is writing your own cryptographic functions usually a bad idea?"
      ]
    },
    {
      "cell_type": "code",
      "execution_count": 1,
      "id": "36b0f79a",
      "metadata": {},
      "outputs": [],
      "source": [
        "# Fill in your answer here."
      ]
    },
    {
      "cell_type": "markdown",
      "id": "b866b8f8",
      "metadata": {},
      "source": [
        "Unfortunately, due to environmental limitations we will have to use the simple_hash() in this case.\n",
        "\n",
        "Using the provided `simple_hash()` function, implement message authentication code functionality:\n",
        "\n",
        "- **`generate_mac(key, message)`** — return a MAC (bytes) for the given key and message.  \n",
        "- **`verify_mac(key, message, mac)`** — return `True` if `mac` is valid for the given key and message, otherwise `False`.\n",
        "\n",
        "Your MAC should be **prepended** to the encrypted bytes in `on_send()` and **checked** in `on_receive()` before accepting a message.\n",
        "\n",
        "#### Task: Create the functionality for `generate_mac()` and copy your solution into the code block below:\n",
        "\n"
      ]
    },
    {
      "cell_type": "code",
      "execution_count": null,
      "id": "49b9ac87",
      "metadata": {},
      "outputs": [],
      "source": [
        "def generate_mac(key, message):\n",
        "    \"\"\"\n",
        "    TODO:\n",
        "    Implement a function to create a message authentication code (MAC) using the provided key and message.\n",
        "    \"\"\""
      ]
    },
    {
      "cell_type": "markdown",
      "id": "e18869fb",
      "metadata": {},
      "source": [
        "<details>\n",
        "<summary><strong>💡 Hint for generate_mac()</strong></summary>\n",
        "\n",
        "1. Think about how you can **combine the key and the message** into a single string.  \n",
        "2. Pass that combined string into the `simple_hash()` function.  \n",
        "3. Return the resulting bytes as the MAC. \n",
        "</details>"
      ]
    },
    {
      "cell_type": "markdown",
      "id": "a7a668e8",
      "metadata": {},
      "source": [
        "#### Task: Create the functionality for `verify_mac()` and copy your solution into the code block below:"
      ]
    },
    {
      "cell_type": "code",
      "execution_count": null,
      "id": "fbe35dcb",
      "metadata": {},
      "outputs": [],
      "source": [
        "def verify_mac(key, message, mac):\n",
        "    \"\"\"\n",
        "    TODO:\n",
        "    Implement a function to verify a message authentication code (MAC) using the provided key, message, and MAC.\n",
        "    This function should return True if the MAC is valid, and False otherwise.\n",
        "    \"\"\""
      ]
    },
    {
      "cell_type": "markdown",
      "id": "06d60be4",
      "metadata": {},
      "source": [
        "<details>\n",
        "<summary><strong>💡 Hint for verify_mac()</strong></summary>\n",
        "\n",
        "1. Recreate the MAC yourself by calling `generate_mac(key, message)`.  \n",
        "2. Compare the recreated MAC with the one received.  \n",
        "3. Return `True` if they match, otherwise `False`.  \n",
        "</details>"
      ]
    },
    {
      "cell_type": "markdown",
      "id": "00175ef1",
      "metadata": {},
      "source": [
        "Now it’s time to try sending messages again!  \n",
        "Upload your updated code to the Micro:Bits and test it:  \n",
        "\n",
        "- When you send a message, a **MAC should be generated and attached**.  \n",
        "- On the receiving side, the **MAC should be verified** before the message is shown.  \n",
        "\n",
        "✅ Verify that your devices can still communicate and that the MAC verification works correctly.  \n"
      ]
    },
    {
      "cell_type": "markdown",
      "id": "e0214cfb",
      "metadata": {},
      "source": [
        "## 4 Diffie-Hellman Key Exchange (DHKE)"
      ]
    },
    {
      "cell_type": "markdown",
      "id": "ffea3ece",
      "metadata": {},
      "source": [
        "In the last part of this lab, you will extend your program to use **Diffie–Hellman Key Exchange** instead of the static key you’ve been relying on so far.  \n",
        "\n",
        "If you need a refresher on how Diffie–Hellman works, take a look back at **Cryptography Lab 1** before starting this task.  \n"
      ]
    },
    {
      "cell_type": "markdown",
      "id": "e7e33a9a",
      "metadata": {},
      "source": [
        "1. Copy the code from [lab2-4.py](/crypto-lab/lab-2/lab2-4.py) into the [Micro:Bit Web Editor](https://python.microbit.org/v/3).  \n",
        "2. ⚠️ Don’t forget to update the `GROUP_NUMBER` here as well, just like previous tasks. \n",
        "3. ⚠️ Make sure to copy the code from task 2 into the function `on_send()`.\n",
        "4. ⚠️ Include the code you filled in from task 3 for the MAC-calculation. \n",
        "4. Send the code to both Micro:Bits.  \n",
        "\n",
        "Let's have a look at what parts is altered:"
      ]
    },
    {
      "cell_type": "markdown",
      "id": "1bd1a4bf",
      "metadata": {},
      "source": [
        "First, and importantly, the key is set to None"
      ]
    },
    {
      "cell_type": "code",
      "execution_count": 2,
      "id": "42619f1c",
      "metadata": {},
      "outputs": [],
      "source": [
        "GLOBAL_KEY = None"
      ]
    },
    {
      "cell_type": "markdown",
      "id": "469e485f",
      "metadata": {},
      "source": [
        "Further down (in the DHKE section), constants for DHKE is included as well as a TODO for the last part of the lab. Read this carefully before starting! "
      ]
    },
    {
      "cell_type": "code",
      "execution_count": null,
      "id": "9f943620",
      "metadata": {},
      "outputs": [],
      "source": [
        "# Constants for DHKE\n",
        "g = 5\n",
        "p = 97"
      ]
    },
    {
      "cell_type": "markdown",
      "id": "10eedbda",
      "metadata": {},
      "source": [
        "Below, you find the new functions where you have to fill in some functionalities. \n",
        "\n",
        "#### Task: Create the functionality to complete `initialize_send_mode`, `initialize_receive_mode`, and `generate_A`, `generate_B` and `generate_K`:"
      ]
    },
    {
      "cell_type": "code",
      "execution_count": null,
      "id": "fe04756e",
      "metadata": {},
      "outputs": [],
      "source": [
        "def initialize_send_mode():\n",
        "    \"\"\"\n",
        "    TASK: Fix DHKE sender protocol\n",
        "    TODO:\n",
        "    1. Generate random private key 'a' (integer from 1 to p-1)\n",
        "    2. Calculate public key A = g^a mod p using generate_A()\n",
        "    3. Send A to receiver as string\n",
        "    4. Wait for B from receiver\n",
        "    5. Calculate shared secret using generate_and_set_K()\n",
        "    6. Set GLOBAL_KEY and start send_mode()\n",
        "    \"\"\"\n",
        "    global GLOBAL_KEY\n",
        "    \n",
        "    # TODO: Fix random number generation \n",
        "    a = 0 # generate the private share \"a\" random integer from 1 to p-1\n",
        "    A = 0 # generate the public share A using the private a, g and p\n",
        "\n",
        "    display.scroll(\"DHKE SEND\")\n",
        "    display.scroll(\"A=\" + str(A))\n",
        "    \n",
        "    attempts = 0\n",
        "    max_attempts = 20\n",
        "    \n",
        "    while GLOBAL_KEY is None and attempts < max_attempts:\n",
        "        # Send A as string via radio using UTF-8 encoding\n",
        "        radio.send_bytes(str(A).encode('utf-8')) \n",
        "        \n",
        "        sleep(5000)  # Wait 5 seconds\n",
        "\n",
        "        # Wait for B from receiver\n",
        "        received_msg = radio.receive()\n",
        "        if received_msg:\n",
        "            try:\n",
        "                B = int(received_msg)  \n",
        "                \n",
        "                # TODO: Calculate shared secret K\n",
        "                K = 0 # Something\n",
        "                GLOBAL_KEY = K\n",
        "                \n",
        "                display.scroll(\"K=\" + str(K))\n",
        "                display.show(Image.YES)\n",
        "                break\n",
        "            except:\n",
        "                # Invalid message, continue trying\n",
        "                pass\n",
        "        \n",
        "        attempts += 1\n",
        "\n",
        "    if GLOBAL_KEY is not None:\n",
        "        display.scroll(\"KEY OK!\")\n",
        "        send_mode()\n",
        "    else:\n",
        "        display.scroll(\"KEY FAIL!\")"
      ]
    },
    {
      "cell_type": "code",
      "execution_count": null,
      "id": "70ad8f57",
      "metadata": {},
      "outputs": [],
      "source": [
        "def initialize_receive_mode():  \n",
        "    \"\"\"\n",
        "    TASK: Fix DHKE receiver protocol  \n",
        "    TODO:\n",
        "    1. Generate random private key 'b' (integer from 1 to p-1)\n",
        "    2. Wait for A from sender\n",
        "    3. Calculate public key B = g^b mod p using generate_B()\n",
        "    4. Send B to sender as string\n",
        "    5. Calculate shared secret using generate_and_set_K()\n",
        "    6. Set GLOBAL_KEY and start receive_mode()\n",
        "    \"\"\"\n",
        "    global GLOBAL_KEY\n",
        "    \n",
        "    # TODO: Fix random number generation\n",
        "    b = 0 # generate the private share \"b\" random integer from 1 to p-1\n",
        "    \n",
        "    display.scroll(\"DHKE RECV\")\n",
        "    \n",
        "    attempts = 0\n",
        "    max_attempts = 30\n",
        "    \n",
        "    while GLOBAL_KEY is None and attempts < max_attempts:\n",
        "        # Wait for A from sender\n",
        "        received_msg = radio.receive()\n",
        "        if received_msg:\n",
        "            try:\n",
        "                # Parse A as integer\n",
        "                A = int(received_msg)\n",
        "                \n",
        "                display.scroll(\"A=\" + str(A))\n",
        "                \n",
        "                # TODO: Generate public key B\n",
        "                B = 0 # generate the public share B using the private b, g and p\n",
        "                display.scroll(\"B=\" + str(B))\n",
        "                \n",
        "                # Send B to sender as string\n",
        "                radio.send(str(B)) \n",
        "                \n",
        "                # TODO: Calculate shared secret K\n",
        "                K = 0 # generate the public share K using A, b and p\n",
        "                GLOBAL_KEY = K\n",
        "                \n",
        "                display.scroll(\"K=\" + str(K))\n",
        "                display.show(Image.YES)\n",
        "                break\n",
        "            except:\n",
        "                # Invalid message, continue waiting\n",
        "                pass\n",
        "        \n",
        "        sleep(500)  # Check every 0.5 seconds\n",
        "        attempts += 1\n",
        "    \n",
        "    if GLOBAL_KEY is not None:\n",
        "        display.scroll(\"KEY OK!\")\n",
        "        receive_mode()\n",
        "    else:\n",
        "        display.scroll(\"KEY FAIL!\")"
      ]
    },
    {
      "cell_type": "code",
      "execution_count": null,
      "id": "656d419f",
      "metadata": {},
      "outputs": [],
      "source": [
        "def generate_A(a, g, p):\n",
        "    # TODO: Generate A\n",
        "    A = 0 # A = g^a mod p\n",
        "    return A\n",
        "\n",
        "def generate_B(b, g, p):\n",
        "    # TODO: Generate B\n",
        "    B = 0 # B = g^b mod p\n",
        "    return B\n",
        "\n",
        "def generate_K(X, y, p):\n",
        "    # TODO: Generate X\n",
        "    K = 0 # K = X^y mod p\n",
        "    return K"
      ]
    },
    {
      "cell_type": "markdown",
      "id": "4ee177c0",
      "metadata": {},
      "source": [
        "Endringer:\n",
        "- Key = None\n",
        "- Send-mode prøver å lage nøkkel og venter på svar før den sender\n",
        "- Receive-mode venter på en initiell melding før den generer nøkkel og svarer\n",
        "- begge har delt nøkkel\n",
        "\n"
      ]
    }
  ],
  "metadata": {
    "kernelspec": {
      "display_name": "Python 3",
      "language": "python",
      "name": "python3"
    },
    "language_info": {
      "codemirror_mode": {
        "name": "ipython",
        "version": 3
      },
      "file_extension": ".py",
      "mimetype": "text/x-python",
      "name": "python",
      "nbconvert_exporter": "python",
      "pygments_lexer": "ipython3",
      "version": "3.9.0"
    }
  },
  "nbformat": 4,
  "nbformat_minor": 5
}
