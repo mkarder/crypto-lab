{
 "cells": [
  {
   "cell_type": "markdown",
   "id": "60f60064",
   "metadata": {},
   "source": [
    "# Putting it all together"
   ]
  },
  {
   "cell_type": "markdown",
   "id": "eab49c38",
   "metadata": {},
   "source": [
    "**Prerequisites:**\n",
    "- Complete all parts 1-5 of this lab\n",
    "- Complemte the IoT lab\n",
    "\n",
    "Now the time has come to put everything together. Your task is to create your own secret messaging scheme for the Micro:Bit.\n",
    "\n",
    "- Part 1: Verify that the radio works. I.e., two microbits can communicate.\n",
    "- Part 2: Using ChaCha20, we begin securing the communication between two Micro:Bits. We use a static key to begin with and provide code for the receiver-side. \n",
    "- Part 3: Extend with MAC functionality. We provide a custom hashing algortihm for the MAC.  \n",
    "- Part 4: Extend so that the key is no longer static, but computed using DHKE. \n",
    "\n"
   ]
  },
  {
   "cell_type": "markdown",
   "id": "a457ebc2",
   "metadata": {},
   "source": [
    "## Part 1\n",
    "\n"
   ]
  }
 ],
 "metadata": {
  "language_info": {
   "name": "python"
  }
 },
 "nbformat": 4,
 "nbformat_minor": 5
}
