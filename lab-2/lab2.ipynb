{
  "cells": [
    {
      "cell_type": "markdown",
      "id": "60f60064",
      "metadata": {},
      "source": [
        "# Crypto Lab 2: Putting it all together"
      ]
    },
    {
      "cell_type": "markdown",
      "id": "eab49c38",
      "metadata": {},
      "source": [
        "**Prerequisites:**\n",
        "- Complete all parts 1-5 of this lab\n",
        "- Complemte the IoT lab\n",
        "\n",
        "Now the time has come to put everything together. Your task is to create your own secret messaging scheme for the Micro:Bit.\n",
        "\n",
        "- Part 1: Verify that the radio works. I.e., two microbits can communicate.\n",
        "- Part 2: Using ChaCha20, we begin securing the communication between two Micro:Bits. We use a static key to begin with and provide code for the receiver-side. \n",
        "- Part 3: Extend with MAC functionality. We provide a custom hashing algortihm for the MAC.  \n",
        "- Part 4: Extend so that the key is no longer static, but computed using DHKE. \n",
        "\n"
      ]
    },
    {
      "cell_type": "markdown",
      "id": "ca1b8cec",
      "metadata": {},
      "source": [
        "---"
      ]
    },
    {
      "cell_type": "markdown",
      "id": "a457ebc2",
      "metadata": {},
      "source": [
        "> **NB: Make sure you have completed Crypto Lab 1: Basic introductions before starting on this lab**"
      ]
    },
    {
      "cell_type": "markdown",
      "id": "8e7a6c5e",
      "metadata": {},
      "source": [
        "In this lab, you’ll take what you learned in the previous crypto lab and bring it to life on real hardware using the **Micro:Bit**. You’ll also be introduced to a new algorithm: **ChaCha20**. \n",
        "\n",
        "To follow along, you’ll need two Micro:Bits - ask your TA's if you only have one. "
      ]
    },
    {
      "cell_type": "markdown",
      "id": "f6d60184",
      "metadata": {},
      "source": [
        "## 1 Verify that two Micro:Bits can communicate using the Radio"
      ]
    },
    {
      "cell_type": "markdown",
      "id": "d01ab866",
      "metadata": {},
      "source": [
        "First, let’s make sure the two Micro:Bits can communicate with each other!  \n",
        "Copy the code provided in [lab2-1.py](/crypto-lab/lab-2/lab2-1.py) into the [Micro:Bit Web Editor](https://python.microbit.org/v/3) and upload it to **both** of your devices.  \n",
        "\n",
        "Next, choose one Micro:Bit to act as the **sender** and the other as the **receiver**.  \n",
        "- On the sender, press the buttons to transmit a message.  \n",
        "- On the receiver, check that the message is displayed correctly.  \n",
        "\n",
        "> ⚠️ **Important:** Before you run the program, update the `GROUP_NUMBER` in the code to match your assigned rat group.  \n",
        "> Your group number is created by combining your team number with A/B (where A = 0 and B = 1).  \n",
        "\n",
        "Examples:  \n",
        "- Team **1A** → `10`  \n",
        "- Team **1B** → `11` "
      ]
    },
    {
      "cell_type": "markdown",
      "id": "c16b640a",
      "metadata": {},
      "source": [
        "#### Question 1.1: Explain briefly what happens in the code snippet (maximum 3 lines of text)"
      ]
    },
    {
      "cell_type": "raw",
      "id": "4a49aed2",
      "metadata": {},
      "source": [
        "# Fill in your answer here."
      ]
    },
    {
      "cell_type": "markdown",
      "id": "e3112b85",
      "metadata": {},
      "source": [
        "#### Question 1.2: Right now, the messages are sent “in the clear” over the radio - what does this mean?"
      ]
    },
    {
      "cell_type": "raw",
      "id": "94eb009c",
      "metadata": {},
      "source": [
        "# Fill in your answer here."
      ]
    },
    {
      "cell_type": "markdown",
      "id": "a6309cac",
      "metadata": {},
      "source": [
        "#### Question 1.3: What happens if another team nearby sets the same group number?"
      ]
    },
    {
      "cell_type": "raw",
      "id": "13bed8f5",
      "metadata": {},
      "source": [
        "# Fill in your answer here."
      ]
    },
    {
      "cell_type": "markdown",
      "id": "15670e73",
      "metadata": {},
      "source": [
        "Before moving on, make sure the setup works:  \n",
        "Press **A** or **B** on the sender, and check that the corresponding message shows up on the receiver’s display.  \n"
      ]
    },
    {
      "cell_type": "markdown",
      "id": "7330bf82",
      "metadata": {},
      "source": [
        "---"
      ]
    },
    {
      "cell_type": "markdown",
      "id": "5accf19b",
      "metadata": {},
      "source": [
        "## 2 Encryption and decryption of messages"
      ]
    },
    {
      "cell_type": "markdown",
      "id": "aa335210",
      "metadata": {},
      "source": [
        "Now that you’ve confirmed the two Micro:Bits can communicate, it’s time to take the next step: implementing a simple **encryption and decryption** mechanism.  \n",
        "\n",
        "1. Copy the code from [lab2-2.py](/crypto-lab/lab-2/lab2-2.py) into the [Micro:Bit Web Editor](https://python.microbit.org/v/3).  \n",
        "2. Send the code to both Micro:Bits.  \n",
        "3. ⚠️ Don’t forget to update the `GROUP_NUMBER` here as well, just like in Task 1.  \n",
        "\n",
        "If you look at the new code, you’ll notice that most of the previous functions remain unchanged.  \n",
        "However, a few **new elements have been added**!"
      ]
    },
    {
      "cell_type": "markdown",
      "id": "3e6dfb9c",
      "metadata": {},
      "source": [
        "If you scroll down to the bottom of the Python file, you’ll find a **ChaCha20 module**.  \n",
        "Don’t worry if it looks complex, you are **not expected to fully understand it** in this course - however it will become relevant in later cryptographic courses.\n",
        "\n",
        "As seen in the preparation material, ChaCha20 is a widely used stream cipher.\n",
        "\n",
        "#### Question 2.1: Why does ChaCha20 only have an encrypt function, not decrypt? "
      ]
    },
    {
      "cell_type": "raw",
      "id": "18d71c82",
      "metadata": {},
      "source": [
        "# Fill in your answer here."
      ]
    },
    {
      "cell_type": "markdown",
      "id": "f4380a2c",
      "metadata": {},
      "source": [
        "You’ll also notice some **new constants** in the code:  \n",
        "\n",
        "- `GLOBAL_KEY` → a static global key written in binary format  \n",
        "- `MESSAGE_1` / `MESSAGE_2` → example messages you can use to test the functionality  \n",
        "\n",
        "💡 **Why this matters:** In real-world cryptography, securely sharing and managing keys is one of the hardest challenges.  \n",
        "For now, we use a fixed key for simplicity, but later you’ll see how key exchange and management become critical for secure communication.  "
      ]
    },
    {
      "cell_type": "code",
      "execution_count": 9,
      "id": "484a63fe",
      "metadata": {},
      "outputs": [],
      "source": [
        "GLOBAL_KEY = b'chacha20!'\n",
        "MESSAGE_1 = \"Hello World\"\n",
        "MESSAGE_2 = \"Goodbye World\""
      ]
    },
    {
      "cell_type": "markdown",
      "id": "3ef46745",
      "metadata": {},
      "source": [
        "More importantly, both functions:`def send_mode()` and `def receive_mode()` are altered. They both call a new function:`on_receive()` before displaying the data: "
      ]
    },
    {
      "cell_type": "code",
      "execution_count": null,
      "id": "9ce06310",
      "metadata": {},
      "outputs": [],
      "source": [
        "def on_receive(received_bytes):\n",
        "    try: \n",
        "        decrypted_bytes = chacha20_encrypt(\n",
        "            received_bytes, GLOBAL_KEY)\n",
        "        data = decrypted_bytes.decode('utf-8')\n",
        "        return data\n",
        "    except TypeError:\n",
        "        return \"TYPE ERROR\"\n",
        "    except:\n",
        "        return \"WEIRD ERROR\""
      ]
    },
    {
      "cell_type": "markdown",
      "id": "db371f81",
      "metadata": {},
      "source": [
        "#### Question 2.2: Explain shortly what happens in the `on_receive` function."
      ]
    },
    {
      "cell_type": "raw",
      "id": "da37dfe1",
      "metadata": {},
      "source": [
        "# Fill in your answer here."
      ]
    },
    {
      "cell_type": "markdown",
      "id": "8ae891b7",
      "metadata": {},
      "source": [
        "Additionally, `def send_mode()` has been altered to send the messages written as constants instead of \"A\" or \"B\" as in part 1. Here, a new function `on_send()` is used instead of `radio.send()`."
      ]
    },
    {
      "cell_type": "markdown",
      "id": "8bdf47fa",
      "metadata": {},
      "source": [
        "Using the `on_receive()` function, let's try to fill out `on_send()`!   \n",
        "Follow the steps as written in the TODO:"
      ]
    },
    {
      "cell_type": "code",
      "execution_count": null,
      "id": "cf075895",
      "metadata": {},
      "outputs": [],
      "source": [
        "def on_send(msg):\n",
        "    \"\"\"\n",
        "    TODO: \n",
        "    Implement a send function that encodes the inputted\n",
        "    message to bytes, encrypts the bytes using chacha20_encrypt()\n",
        "    and then sends the encrypted bytes over the radio.\n",
        "    \"\"\"\n",
        "    pass # Remove this line and implement your solution here"
      ]
    },
    {
      "cell_type": "markdown",
      "id": "c87bc38e",
      "metadata": {},
      "source": [
        "<details>\n",
        "<summary><strong>💡 Hint</strong></summary>\n",
        "\n",
        "Try using the same logic as in on_receive() to fill out on_send(). NOEN BEDRE HINT HER???\n",
        "</details>"
      ]
    },
    {
      "cell_type": "markdown",
      "id": "882d2722",
      "metadata": {},
      "source": [
        "If your code works as intended, you should now be able to send encrypted messages. Verify that it works "
      ]
    },
    {
      "cell_type": "markdown",
      "id": "39ee4488",
      "metadata": {},
      "source": [
        "## 3 Extend with MAC technology\n",
        "\n"
      ]
    },
    {
      "cell_type": "markdown",
      "id": "9e9e58ca",
      "metadata": {},
      "source": []
    }
  ],
  "metadata": {
    "kernelspec": {
      "display_name": "Python 3",
      "language": "python",
      "name": "python3"
    },
    "language_info": {
      "codemirror_mode": {
        "name": "ipython",
        "version": 3
      },
      "file_extension": ".py",
      "mimetype": "text/x-python",
      "name": "python",
      "nbconvert_exporter": "python",
      "pygments_lexer": "ipython3",
      "version": "3.9.0"
    }
  },
  "nbformat": 4,
  "nbformat_minor": 5
}
